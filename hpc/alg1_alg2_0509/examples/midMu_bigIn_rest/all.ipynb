{
 "cells": [
  {
   "cell_type": "code",
   "execution_count": 1,
   "metadata": {},
   "outputs": [],
   "source": [
    "\n",
    "import os\n",
    "import shutil\n",
    "shutil.rmtree('./configurations')"
   ]
  },
  {
   "cell_type": "code",
   "execution_count": 2,
   "metadata": {},
   "outputs": [
    {
     "name": "stdout",
     "output_type": "stream",
     "text": [
      "---  new folder ./configurations/N2  ---\n",
      "---  new folder ./configurations/N3  ---\n",
      "---  new folder ./configurations/N4  ---\n",
      "---  new folder ./configurations/N5  ---\n",
      "---  new folder ./configurations/N6  ---\n",
      "---  new folder ./configurations/N7  ---\n",
      "---  new folder ./configurations/N8  ---\n",
      "---  new folder ./configurations/N9  ---\n",
      "---  new folder ./configurations/N10  ---\n",
      "---  new folder ./configurations/N11  ---\n",
      "---  new folder ./configurations/N12  ---\n"
     ]
    }
   ],
   "source": [
    "import set_configs\n",
    "set_configs.create_config()"
   ]
  },
  {
   "cell_type": "code",
   "execution_count": 3,
   "metadata": {},
   "outputs": [
    {
     "name": "stderr",
     "output_type": "stream",
     "text": [
      "/Users/hewenhao/Desktop/huawei/alg1_alg2/examples/midMu_bigIn_rest/../../zxm_freq/Tab1_ion_pos_spec_cal.py:69: RuntimeWarning: invalid value encountered in sqrt\n",
      "  X_freqcal = (X_freq ** 0.5) * omega_ra / (2 * np.pi * MHz)\n"
     ]
    },
    {
     "name": "stdout",
     "output_type": "stream",
     "text": [
      "--- N = 12 finished ---\n",
      "--- N = 7 finished ---\n",
      "--- N = 9 finished ---\n",
      "--- N = 8 finished ---\n",
      "--- N = 6 finished ---\n",
      "--- N = 11 finished ---\n",
      "--- N = 10 finished ---\n",
      "--- N = 4 finished ---\n",
      "--- N = 3 finished ---\n",
      "--- N = 2 finished ---\n",
      "--- N = 5 finished ---\n"
     ]
    }
   ],
   "source": [
    "import compute_phonon\n",
    "compute_phonon.compute_phonon()"
   ]
  },
  {
   "cell_type": "code",
   "execution_count": 4,
   "metadata": {},
   "outputs": [
    {
     "ename": "KeyboardInterrupt",
     "evalue": "",
     "output_type": "error",
     "traceback": [
      "\u001b[0;31m---------------------------------------------------------------------------\u001b[0m",
      "\u001b[0;31mKeyboardInterrupt\u001b[0m                         Traceback (most recent call last)",
      "\u001b[1;32m/Users/hewenhao/Desktop/huawei/alg1_alg2/examples/midMu_bigIn_rest/all.ipynb Cell 4'\u001b[0m in \u001b[0;36m<cell line: 1>\u001b[0;34m()\u001b[0m\n\u001b[0;32m----> <a href='vscode-notebook-cell:/Users/hewenhao/Desktop/huawei/alg1_alg2/examples/midMu_bigIn_rest/all.ipynb#ch0000003?line=0'>1</a>\u001b[0m \u001b[39mimport\u001b[39;00m \u001b[39moptimize_pulse\u001b[39;00m\n\u001b[1;32m      <a href='vscode-notebook-cell:/Users/hewenhao/Desktop/huawei/alg1_alg2/examples/midMu_bigIn_rest/all.ipynb#ch0000003?line=1'>2</a>\u001b[0m optimize_pulse\u001b[39m.\u001b[39moptimize_pulse()\n",
      "File \u001b[0;32m~/Desktop/huawei/alg1_alg2/examples/midMu_bigIn_rest/optimize_pulse.py:8\u001b[0m, in \u001b[0;36m<module>\u001b[0;34m\u001b[0m\n\u001b[1;32m      <a href='file:///Users/hewenhao/Desktop/huawei/alg1_alg2/examples/midMu_bigIn_rest/optimize_pulse.py?line=5'>6</a>\u001b[0m sys\u001b[39m.\u001b[39mpath\u001b[39m.\u001b[39mappend(\u001b[39m'\u001b[39m\u001b[39m../..\u001b[39m\u001b[39m'\u001b[39m)\n\u001b[1;32m      <a href='file:///Users/hewenhao/Desktop/huawei/alg1_alg2/examples/midMu_bigIn_rest/optimize_pulse.py?line=6'>7</a>\u001b[0m \u001b[39mfrom\u001b[39;00m \u001b[39mmy_constants\u001b[39;00m \u001b[39mimport\u001b[39;00m \u001b[39m*\u001b[39m\n\u001b[0;32m----> <a href='file:///Users/hewenhao/Desktop/huawei/alg1_alg2/examples/midMu_bigIn_rest/optimize_pulse.py?line=7'>8</a>\u001b[0m \u001b[39mfrom\u001b[39;00m \u001b[39msyc_amp\u001b[39;00m\u001b[39m.\u001b[39;00m\u001b[39mwave_pulse\u001b[39;00m \u001b[39mimport\u001b[39;00m syc_amp\n\u001b[1;32m     <a href='file:///Users/hewenhao/Desktop/huawei/alg1_alg2/examples/midMu_bigIn_rest/optimize_pulse.py?line=9'>10</a>\u001b[0m prefix \u001b[39m=\u001b[39m \u001b[39m'\u001b[39m\u001b[39m./configurations\u001b[39m\u001b[39m'\u001b[39m\n\u001b[1;32m     <a href='file:///Users/hewenhao/Desktop/huawei/alg1_alg2/examples/midMu_bigIn_rest/optimize_pulse.py?line=10'>11</a>\u001b[0m all_dir \u001b[39m=\u001b[39m os\u001b[39m.\u001b[39mlistdir(prefix)\n",
      "File \u001b[0;32m~/Desktop/huawei/alg1_alg2/examples/midMu_bigIn_rest/../../syc_amp/wave_pulse.py:5\u001b[0m, in \u001b[0;36m<module>\u001b[0;34m\u001b[0m\n\u001b[1;32m      <a href='file:///Users/hewenhao/Desktop/huawei/alg1_alg2/examples/midMu_bigIn_rest/../../syc_amp/wave_pulse.py?line=1'>2</a>\u001b[0m \u001b[39mimport\u001b[39;00m \u001b[39mnumpy\u001b[39;00m \u001b[39mas\u001b[39;00m \u001b[39mnp\u001b[39;00m\n\u001b[1;32m      <a href='file:///Users/hewenhao/Desktop/huawei/alg1_alg2/examples/midMu_bigIn_rest/../../syc_amp/wave_pulse.py?line=2'>3</a>\u001b[0m \u001b[39mimport\u001b[39;00m \u001b[39mmatplotlib\u001b[39;00m\u001b[39m.\u001b[39;00m\u001b[39mpyplot\u001b[39;00m \u001b[39mas\u001b[39;00m \u001b[39mplt\u001b[39;00m\n\u001b[0;32m----> <a href='file:///Users/hewenhao/Desktop/huawei/alg1_alg2/examples/midMu_bigIn_rest/../../syc_amp/wave_pulse.py?line=4'>5</a>\u001b[0m \u001b[39mfrom\u001b[39;00m \u001b[39m.\u001b[39;00m\u001b[39mpakages\u001b[39;00m\u001b[39m.\u001b[39;00m\u001b[39mquantum_dynamics_simulation\u001b[39;00m\u001b[39m.\u001b[39;00m\u001b[39mAM_optimization\u001b[39;00m \u001b[39mimport\u001b[39;00m \u001b[39m*\u001b[39m\n\u001b[1;32m      <a href='file:///Users/hewenhao/Desktop/huawei/alg1_alg2/examples/midMu_bigIn_rest/../../syc_amp/wave_pulse.py?line=5'>6</a>\u001b[0m \u001b[39mfrom\u001b[39;00m \u001b[39m.\u001b[39;00m\u001b[39mpakages\u001b[39;00m\u001b[39m.\u001b[39;00m\u001b[39mquantum_dynamics_simulation\u001b[39;00m\u001b[39m.\u001b[39;00m\u001b[39msegmented_simulation\u001b[39;00m \u001b[39mimport\u001b[39;00m \u001b[39m*\u001b[39m\n\u001b[1;32m      <a href='file:///Users/hewenhao/Desktop/huawei/alg1_alg2/examples/midMu_bigIn_rest/../../syc_amp/wave_pulse.py?line=6'>7</a>\u001b[0m \u001b[39mfrom\u001b[39;00m \u001b[39m.\u001b[39;00m\u001b[39mpakages\u001b[39;00m\u001b[39m.\u001b[39;00m\u001b[39mquantum_dynamics_simulation\u001b[39;00m\u001b[39m.\u001b[39;00m\u001b[39mvisualization\u001b[39;00m \u001b[39mimport\u001b[39;00m \u001b[39m*\u001b[39m\n",
      "File \u001b[0;32m~/Desktop/huawei/alg1_alg2/examples/midMu_bigIn_rest/../../syc_amp/pakages/quantum_dynamics_simulation/AM_optimization.py:7\u001b[0m, in \u001b[0;36m<module>\u001b[0;34m\u001b[0m\n\u001b[1;32m      <a href='file:///Users/hewenhao/Desktop/huawei/alg1_alg2/examples/midMu_bigIn_rest/../../syc_amp/pakages/quantum_dynamics_simulation/AM_optimization.py?line=3'>4</a>\u001b[0m \u001b[39mimport\u001b[39;00m \u001b[39mrandom\u001b[39;00m\n\u001b[1;32m      <a href='file:///Users/hewenhao/Desktop/huawei/alg1_alg2/examples/midMu_bigIn_rest/../../syc_amp/pakages/quantum_dynamics_simulation/AM_optimization.py?line=5'>6</a>\u001b[0m \u001b[39mimport\u001b[39;00m \u001b[39mnumpy\u001b[39;00m \u001b[39mas\u001b[39;00m \u001b[39mnp\u001b[39;00m\n\u001b[0;32m----> <a href='file:///Users/hewenhao/Desktop/huawei/alg1_alg2/examples/midMu_bigIn_rest/../../syc_amp/pakages/quantum_dynamics_simulation/AM_optimization.py?line=6'>7</a>\u001b[0m \u001b[39mimport\u001b[39;00m \u001b[39mtensorflow\u001b[39;00m \u001b[39mas\u001b[39;00m \u001b[39mtf\u001b[39;00m\n\u001b[1;32m      <a href='file:///Users/hewenhao/Desktop/huawei/alg1_alg2/examples/midMu_bigIn_rest/../../syc_amp/pakages/quantum_dynamics_simulation/AM_optimization.py?line=7'>8</a>\u001b[0m \u001b[39mimport\u001b[39;00m \u001b[39mmatplotlib\u001b[39;00m\u001b[39m.\u001b[39;00m\u001b[39mpyplot\u001b[39;00m \u001b[39mas\u001b[39;00m \u001b[39mplt\u001b[39;00m\n\u001b[1;32m      <a href='file:///Users/hewenhao/Desktop/huawei/alg1_alg2/examples/midMu_bigIn_rest/../../syc_amp/pakages/quantum_dynamics_simulation/AM_optimization.py?line=8'>9</a>\u001b[0m \u001b[39mimport\u001b[39;00m \u001b[39mscipy\u001b[39;00m\u001b[39m.\u001b[39;00m\u001b[39mintegrate\u001b[39;00m \u001b[39mas\u001b[39;00m \u001b[39mintegrate\u001b[39;00m\n",
      "File \u001b[0;32m~/opt/anaconda3/envs/alg1_alg2/lib/python3.10/site-packages/tensorflow/__init__.py:37\u001b[0m, in \u001b[0;36m<module>\u001b[0;34m\u001b[0m\n\u001b[1;32m     <a href='file:///Users/hewenhao/opt/anaconda3/envs/alg1_alg2/lib/python3.10/site-packages/tensorflow/__init__.py?line=33'>34</a>\u001b[0m \u001b[39mimport\u001b[39;00m \u001b[39msys\u001b[39;00m \u001b[39mas\u001b[39;00m \u001b[39m_sys\u001b[39;00m\n\u001b[1;32m     <a href='file:///Users/hewenhao/opt/anaconda3/envs/alg1_alg2/lib/python3.10/site-packages/tensorflow/__init__.py?line=34'>35</a>\u001b[0m \u001b[39mimport\u001b[39;00m \u001b[39mtyping\u001b[39;00m \u001b[39mas\u001b[39;00m \u001b[39m_typing\u001b[39;00m\n\u001b[0;32m---> <a href='file:///Users/hewenhao/opt/anaconda3/envs/alg1_alg2/lib/python3.10/site-packages/tensorflow/__init__.py?line=36'>37</a>\u001b[0m \u001b[39mfrom\u001b[39;00m \u001b[39mtensorflow\u001b[39;00m\u001b[39m.\u001b[39;00m\u001b[39mpython\u001b[39;00m\u001b[39m.\u001b[39;00m\u001b[39mtools\u001b[39;00m \u001b[39mimport\u001b[39;00m module_util \u001b[39mas\u001b[39;00m _module_util\n\u001b[1;32m     <a href='file:///Users/hewenhao/opt/anaconda3/envs/alg1_alg2/lib/python3.10/site-packages/tensorflow/__init__.py?line=37'>38</a>\u001b[0m \u001b[39mfrom\u001b[39;00m \u001b[39mtensorflow\u001b[39;00m\u001b[39m.\u001b[39;00m\u001b[39mpython\u001b[39;00m\u001b[39m.\u001b[39;00m\u001b[39mutil\u001b[39;00m\u001b[39m.\u001b[39;00m\u001b[39mlazy_loader\u001b[39;00m \u001b[39mimport\u001b[39;00m LazyLoader \u001b[39mas\u001b[39;00m _LazyLoader\n\u001b[1;32m     <a href='file:///Users/hewenhao/opt/anaconda3/envs/alg1_alg2/lib/python3.10/site-packages/tensorflow/__init__.py?line=39'>40</a>\u001b[0m \u001b[39m# Make sure code inside the TensorFlow codebase can use tf2.enabled() at import.\u001b[39;00m\n",
      "File \u001b[0;32m~/opt/anaconda3/envs/alg1_alg2/lib/python3.10/site-packages/tensorflow/python/__init__.py:36\u001b[0m, in \u001b[0;36m<module>\u001b[0;34m\u001b[0m\n\u001b[1;32m     <a href='file:///Users/hewenhao/opt/anaconda3/envs/alg1_alg2/lib/python3.10/site-packages/tensorflow/python/__init__.py?line=26'>27</a>\u001b[0m \u001b[39mimport\u001b[39;00m \u001b[39mtraceback\u001b[39;00m\n\u001b[1;32m     <a href='file:///Users/hewenhao/opt/anaconda3/envs/alg1_alg2/lib/python3.10/site-packages/tensorflow/python/__init__.py?line=28'>29</a>\u001b[0m \u001b[39m# We aim to keep this file minimal and ideally remove completely.\u001b[39;00m\n\u001b[1;32m     <a href='file:///Users/hewenhao/opt/anaconda3/envs/alg1_alg2/lib/python3.10/site-packages/tensorflow/python/__init__.py?line=29'>30</a>\u001b[0m \u001b[39m# If you are adding a new file with @tf_export decorators,\u001b[39;00m\n\u001b[1;32m     <a href='file:///Users/hewenhao/opt/anaconda3/envs/alg1_alg2/lib/python3.10/site-packages/tensorflow/python/__init__.py?line=30'>31</a>\u001b[0m \u001b[39m# import it in modules_with_exports.py instead.\u001b[39;00m\n\u001b[1;32m     <a href='file:///Users/hewenhao/opt/anaconda3/envs/alg1_alg2/lib/python3.10/site-packages/tensorflow/python/__init__.py?line=31'>32</a>\u001b[0m \n\u001b[1;32m     <a href='file:///Users/hewenhao/opt/anaconda3/envs/alg1_alg2/lib/python3.10/site-packages/tensorflow/python/__init__.py?line=32'>33</a>\u001b[0m \u001b[39m# go/tf-wildcard-import\u001b[39;00m\n\u001b[1;32m     <a href='file:///Users/hewenhao/opt/anaconda3/envs/alg1_alg2/lib/python3.10/site-packages/tensorflow/python/__init__.py?line=33'>34</a>\u001b[0m \u001b[39m# pylint: disable=wildcard-import,g-bad-import-order,g-import-not-at-top\u001b[39;00m\n\u001b[0;32m---> <a href='file:///Users/hewenhao/opt/anaconda3/envs/alg1_alg2/lib/python3.10/site-packages/tensorflow/python/__init__.py?line=35'>36</a>\u001b[0m \u001b[39mfrom\u001b[39;00m \u001b[39mtensorflow\u001b[39;00m\u001b[39m.\u001b[39;00m\u001b[39mpython\u001b[39;00m \u001b[39mimport\u001b[39;00m pywrap_tensorflow \u001b[39mas\u001b[39;00m _pywrap_tensorflow\n\u001b[1;32m     <a href='file:///Users/hewenhao/opt/anaconda3/envs/alg1_alg2/lib/python3.10/site-packages/tensorflow/python/__init__.py?line=36'>37</a>\u001b[0m \u001b[39mfrom\u001b[39;00m \u001b[39mtensorflow\u001b[39;00m\u001b[39m.\u001b[39;00m\u001b[39mpython\u001b[39;00m\u001b[39m.\u001b[39;00m\u001b[39meager\u001b[39;00m \u001b[39mimport\u001b[39;00m context\n\u001b[1;32m     <a href='file:///Users/hewenhao/opt/anaconda3/envs/alg1_alg2/lib/python3.10/site-packages/tensorflow/python/__init__.py?line=38'>39</a>\u001b[0m \u001b[39m# pylint: enable=wildcard-import\u001b[39;00m\n\u001b[1;32m     <a href='file:///Users/hewenhao/opt/anaconda3/envs/alg1_alg2/lib/python3.10/site-packages/tensorflow/python/__init__.py?line=39'>40</a>\u001b[0m \n\u001b[1;32m     <a href='file:///Users/hewenhao/opt/anaconda3/envs/alg1_alg2/lib/python3.10/site-packages/tensorflow/python/__init__.py?line=40'>41</a>\u001b[0m \u001b[39m# Bring in subpackages.\u001b[39;00m\n",
      "File \u001b[0;32m~/opt/anaconda3/envs/alg1_alg2/lib/python3.10/site-packages/tensorflow/python/pywrap_tensorflow.py:60\u001b[0m, in \u001b[0;36m<module>\u001b[0;34m\u001b[0m\n\u001b[1;32m     <a href='file:///Users/hewenhao/opt/anaconda3/envs/alg1_alg2/lib/python3.10/site-packages/tensorflow/python/pywrap_tensorflow.py?line=57'>58</a>\u001b[0m \u001b[39m# pylint: disable=wildcard-import,g-import-not-at-top,line-too-long,undefined-variable\u001b[39;00m\n\u001b[1;32m     <a href='file:///Users/hewenhao/opt/anaconda3/envs/alg1_alg2/lib/python3.10/site-packages/tensorflow/python/pywrap_tensorflow.py?line=58'>59</a>\u001b[0m \u001b[39mtry\u001b[39;00m:\n\u001b[0;32m---> <a href='file:///Users/hewenhao/opt/anaconda3/envs/alg1_alg2/lib/python3.10/site-packages/tensorflow/python/pywrap_tensorflow.py?line=59'>60</a>\u001b[0m   \u001b[39mfrom\u001b[39;00m \u001b[39mtensorflow\u001b[39;00m\u001b[39m.\u001b[39;00m\u001b[39mpython\u001b[39;00m\u001b[39m.\u001b[39;00m\u001b[39m_pywrap_tensorflow_internal\u001b[39;00m \u001b[39mimport\u001b[39;00m \u001b[39m*\u001b[39m\n\u001b[1;32m     <a href='file:///Users/hewenhao/opt/anaconda3/envs/alg1_alg2/lib/python3.10/site-packages/tensorflow/python/pywrap_tensorflow.py?line=60'>61</a>\u001b[0m \u001b[39m# This try catch logic is because there is no bazel equivalent for py_extension.\u001b[39;00m\n\u001b[1;32m     <a href='file:///Users/hewenhao/opt/anaconda3/envs/alg1_alg2/lib/python3.10/site-packages/tensorflow/python/pywrap_tensorflow.py?line=61'>62</a>\u001b[0m \u001b[39m# Externally in opensource we must enable exceptions to load the shared object\u001b[39;00m\n\u001b[1;32m     <a href='file:///Users/hewenhao/opt/anaconda3/envs/alg1_alg2/lib/python3.10/site-packages/tensorflow/python/pywrap_tensorflow.py?line=62'>63</a>\u001b[0m \u001b[39m# by exposing the PyInit symbols with pybind. This error will only be\u001b[39;00m\n\u001b[1;32m     <a href='file:///Users/hewenhao/opt/anaconda3/envs/alg1_alg2/lib/python3.10/site-packages/tensorflow/python/pywrap_tensorflow.py?line=63'>64</a>\u001b[0m \u001b[39m# caught internally or if someone changes the name of the target _pywrap_tensorflow_internal.\u001b[39;00m\n\u001b[1;32m     <a href='file:///Users/hewenhao/opt/anaconda3/envs/alg1_alg2/lib/python3.10/site-packages/tensorflow/python/pywrap_tensorflow.py?line=64'>65</a>\u001b[0m \n\u001b[1;32m     <a href='file:///Users/hewenhao/opt/anaconda3/envs/alg1_alg2/lib/python3.10/site-packages/tensorflow/python/pywrap_tensorflow.py?line=65'>66</a>\u001b[0m \u001b[39m# This logic is used in other internal projects using py_extension.\u001b[39;00m\n\u001b[1;32m     <a href='file:///Users/hewenhao/opt/anaconda3/envs/alg1_alg2/lib/python3.10/site-packages/tensorflow/python/pywrap_tensorflow.py?line=66'>67</a>\u001b[0m \u001b[39mexcept\u001b[39;00m \u001b[39mModuleNotFoundError\u001b[39;00m:\n",
      "\u001b[0;31mKeyboardInterrupt\u001b[0m: "
     ]
    }
   ],
   "source": [
    "import optimize_pulse\n",
    "optimize_pulse.optimize_pulse()\n"
   ]
  },
  {
   "cell_type": "code",
   "execution_count": null,
   "metadata": {},
   "outputs": [],
   "source": [
    "import simu_heating\n",
    "simu_heating.num_heating_error()\n",
    "simu_heating.bound_eq26()"
   ]
  }
 ],
 "metadata": {
  "interpreter": {
   "hash": "654d61ce0e3d19450285a7adc75acb17b8bbd5f73dcd7a6500957e93c9dcc42d"
  },
  "kernelspec": {
   "display_name": "Python 3.10.4 ('alg1_alg2')",
   "language": "python",
   "name": "python3"
  },
  "language_info": {
   "codemirror_mode": {
    "name": "ipython",
    "version": 3
   },
   "file_extension": ".py",
   "mimetype": "text/x-python",
   "name": "python",
   "nbconvert_exporter": "python",
   "pygments_lexer": "ipython3",
   "version": "3.10.4"
  },
  "orig_nbformat": 4
 },
 "nbformat": 4,
 "nbformat_minor": 2
}
