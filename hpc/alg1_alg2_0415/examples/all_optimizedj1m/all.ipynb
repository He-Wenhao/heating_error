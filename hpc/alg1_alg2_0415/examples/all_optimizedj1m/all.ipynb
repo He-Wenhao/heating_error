{
 "cells": [
  {
   "cell_type": "code",
   "execution_count": 2,
   "metadata": {},
   "outputs": [
    {
     "name": "stdout",
     "output_type": "stream",
     "text": [
      "---  new folder ./configurations/N2  ---\n",
      "---  new folder ./configurations/N3  ---\n",
      "---  new folder ./configurations/N4  ---\n",
      "---  new folder ./configurations/N5  ---\n",
      "---  new folder ./configurations/N6  ---\n",
      "---  new folder ./configurations/N7  ---\n",
      "---  new folder ./configurations/N8  ---\n",
      "---  new folder ./configurations/N9  ---\n",
      "---  new folder ./configurations/N10  ---\n",
      "---  new folder ./configurations/N11  ---\n",
      "---  new folder ./configurations/N12  ---\n"
     ]
    }
   ],
   "source": [
    "\n",
    "import os\n",
    "import shutil\n",
    "shutil.rmtree('./configurations')\n",
    "\n",
    "\n",
    "import set_configs\n",
    "set_configs.create_config()"
   ]
  },
  {
   "cell_type": "code",
   "execution_count": 3,
   "metadata": {},
   "outputs": [
    {
     "name": "stdout",
     "output_type": "stream",
     "text": [
      "--- N = 11 finished ---\n",
      "--- N = 3 finished ---\n",
      "--- N = 6 finished ---\n",
      "--- N = 9 finished ---\n",
      "--- N = 5 finished ---\n",
      "--- N = 8 finished ---\n",
      "--- N = 12 finished ---\n",
      "--- N = 4 finished ---\n",
      "--- N = 10 finished ---\n",
      "--- N = 7 finished ---\n",
      "--- N = 2 finished ---\n"
     ]
    }
   ],
   "source": [
    "import compute_phonon\n",
    "compute_phonon.compute_phonon()"
   ]
  },
  {
   "cell_type": "code",
   "execution_count": 4,
   "metadata": {},
   "outputs": [
    {
     "ename": "KeyboardInterrupt",
     "evalue": "",
     "output_type": "error",
     "traceback": [
      "\u001b[0;31m---------------------------------------------------------------------------\u001b[0m",
      "\u001b[0;31mKeyboardInterrupt\u001b[0m                         Traceback (most recent call last)",
      "\u001b[1;32m/gpfs/share/home/1900011306/alg1_alg2/examples/all_optimizedj1m/all.ipynb Cell 3'\u001b[0m in \u001b[0;36m<cell line: 1>\u001b[0;34m()\u001b[0m\n\u001b[0;32m----> <a href='vscode-notebook-cell://ssh-remote%2B7b22686f73744e616d65223a225765696d696e6731227d/gpfs/share/home/1900011306/alg1_alg2/examples/all_optimizedj1m/all.ipynb#ch0000002vscode-remote?line=0'>1</a>\u001b[0m \u001b[39mimport\u001b[39;00m \u001b[39moptimize_pulse\u001b[39;00m\n\u001b[1;32m      <a href='vscode-notebook-cell://ssh-remote%2B7b22686f73744e616d65223a225765696d696e6731227d/gpfs/share/home/1900011306/alg1_alg2/examples/all_optimizedj1m/all.ipynb#ch0000002vscode-remote?line=1'>2</a>\u001b[0m optimize_pulse\u001b[39m.\u001b[39moptimize_pulse()\n",
      "File \u001b[0;32m~/alg1_alg2/examples/all_optimizedj1m/optimize_pulse.py:8\u001b[0m, in \u001b[0;36m<module>\u001b[0;34m\u001b[0m\n\u001b[1;32m      <a href='file:///gpfs/share/home/1900011306/alg1_alg2/examples/all_optimizedj1m/optimize_pulse.py?line=5'>6</a>\u001b[0m sys\u001b[39m.\u001b[39mpath\u001b[39m.\u001b[39mappend(\u001b[39m'\u001b[39m\u001b[39m../..\u001b[39m\u001b[39m'\u001b[39m)\n\u001b[1;32m      <a href='file:///gpfs/share/home/1900011306/alg1_alg2/examples/all_optimizedj1m/optimize_pulse.py?line=6'>7</a>\u001b[0m \u001b[39mfrom\u001b[39;00m \u001b[39mmy_constants\u001b[39;00m \u001b[39mimport\u001b[39;00m \u001b[39m*\u001b[39m\n\u001b[0;32m----> <a href='file:///gpfs/share/home/1900011306/alg1_alg2/examples/all_optimizedj1m/optimize_pulse.py?line=7'>8</a>\u001b[0m \u001b[39mfrom\u001b[39;00m \u001b[39msyc_amp\u001b[39;00m\u001b[39m.\u001b[39;00m\u001b[39mwave_pulse\u001b[39;00m \u001b[39mimport\u001b[39;00m syc_amp\n\u001b[1;32m     <a href='file:///gpfs/share/home/1900011306/alg1_alg2/examples/all_optimizedj1m/optimize_pulse.py?line=9'>10</a>\u001b[0m prefix \u001b[39m=\u001b[39m \u001b[39m'\u001b[39m\u001b[39m./configurations\u001b[39m\u001b[39m'\u001b[39m\n\u001b[1;32m     <a href='file:///gpfs/share/home/1900011306/alg1_alg2/examples/all_optimizedj1m/optimize_pulse.py?line=10'>11</a>\u001b[0m all_dir \u001b[39m=\u001b[39m os\u001b[39m.\u001b[39mlistdir(prefix)\n",
      "File \u001b[0;32m~/alg1_alg2/examples/all_optimizedj1m/../../syc_amp/wave_pulse.py:5\u001b[0m, in \u001b[0;36m<module>\u001b[0;34m\u001b[0m\n\u001b[1;32m      <a href='file:///gpfs/share/home/1900011306/alg1_alg2/examples/all_optimizedj1m/../../syc_amp/wave_pulse.py?line=1'>2</a>\u001b[0m \u001b[39mimport\u001b[39;00m \u001b[39mnumpy\u001b[39;00m \u001b[39mas\u001b[39;00m \u001b[39mnp\u001b[39;00m\n\u001b[1;32m      <a href='file:///gpfs/share/home/1900011306/alg1_alg2/examples/all_optimizedj1m/../../syc_amp/wave_pulse.py?line=2'>3</a>\u001b[0m \u001b[39mimport\u001b[39;00m \u001b[39mmatplotlib\u001b[39;00m\u001b[39m.\u001b[39;00m\u001b[39mpyplot\u001b[39;00m \u001b[39mas\u001b[39;00m \u001b[39mplt\u001b[39;00m\n\u001b[0;32m----> <a href='file:///gpfs/share/home/1900011306/alg1_alg2/examples/all_optimizedj1m/../../syc_amp/wave_pulse.py?line=4'>5</a>\u001b[0m \u001b[39mfrom\u001b[39;00m \u001b[39m.\u001b[39;00m\u001b[39mpakages\u001b[39;00m\u001b[39m.\u001b[39;00m\u001b[39mquantum_dynamics_simulation\u001b[39;00m\u001b[39m.\u001b[39;00m\u001b[39mAM_optimization\u001b[39;00m \u001b[39mimport\u001b[39;00m \u001b[39m*\u001b[39m\n\u001b[1;32m      <a href='file:///gpfs/share/home/1900011306/alg1_alg2/examples/all_optimizedj1m/../../syc_amp/wave_pulse.py?line=5'>6</a>\u001b[0m \u001b[39mfrom\u001b[39;00m \u001b[39m.\u001b[39;00m\u001b[39mpakages\u001b[39;00m\u001b[39m.\u001b[39;00m\u001b[39mquantum_dynamics_simulation\u001b[39;00m\u001b[39m.\u001b[39;00m\u001b[39msegmented_simulation\u001b[39;00m \u001b[39mimport\u001b[39;00m \u001b[39m*\u001b[39m\n\u001b[1;32m      <a href='file:///gpfs/share/home/1900011306/alg1_alg2/examples/all_optimizedj1m/../../syc_amp/wave_pulse.py?line=6'>7</a>\u001b[0m \u001b[39mfrom\u001b[39;00m \u001b[39m.\u001b[39;00m\u001b[39mpakages\u001b[39;00m\u001b[39m.\u001b[39;00m\u001b[39mquantum_dynamics_simulation\u001b[39;00m\u001b[39m.\u001b[39;00m\u001b[39mvisualization\u001b[39;00m \u001b[39mimport\u001b[39;00m \u001b[39m*\u001b[39m\n",
      "File \u001b[0;32m~/alg1_alg2/examples/all_optimizedj1m/../../syc_amp/pakages/quantum_dynamics_simulation/AM_optimization.py:7\u001b[0m, in \u001b[0;36m<module>\u001b[0;34m\u001b[0m\n\u001b[1;32m      <a href='file:///gpfs/share/home/1900011306/alg1_alg2/examples/all_optimizedj1m/../../syc_amp/pakages/quantum_dynamics_simulation/AM_optimization.py?line=3'>4</a>\u001b[0m \u001b[39mimport\u001b[39;00m \u001b[39mrandom\u001b[39;00m\n\u001b[1;32m      <a href='file:///gpfs/share/home/1900011306/alg1_alg2/examples/all_optimizedj1m/../../syc_amp/pakages/quantum_dynamics_simulation/AM_optimization.py?line=5'>6</a>\u001b[0m \u001b[39mimport\u001b[39;00m \u001b[39mnumpy\u001b[39;00m \u001b[39mas\u001b[39;00m \u001b[39mnp\u001b[39;00m\n\u001b[0;32m----> <a href='file:///gpfs/share/home/1900011306/alg1_alg2/examples/all_optimizedj1m/../../syc_amp/pakages/quantum_dynamics_simulation/AM_optimization.py?line=6'>7</a>\u001b[0m \u001b[39mimport\u001b[39;00m \u001b[39mtensorflow\u001b[39;00m \u001b[39mas\u001b[39;00m \u001b[39mtf\u001b[39;00m\n\u001b[1;32m      <a href='file:///gpfs/share/home/1900011306/alg1_alg2/examples/all_optimizedj1m/../../syc_amp/pakages/quantum_dynamics_simulation/AM_optimization.py?line=7'>8</a>\u001b[0m \u001b[39mimport\u001b[39;00m \u001b[39mmatplotlib\u001b[39;00m\u001b[39m.\u001b[39;00m\u001b[39mpyplot\u001b[39;00m \u001b[39mas\u001b[39;00m \u001b[39mplt\u001b[39;00m\n\u001b[1;32m      <a href='file:///gpfs/share/home/1900011306/alg1_alg2/examples/all_optimizedj1m/../../syc_amp/pakages/quantum_dynamics_simulation/AM_optimization.py?line=8'>9</a>\u001b[0m \u001b[39mimport\u001b[39;00m \u001b[39mscipy\u001b[39;00m\u001b[39m.\u001b[39;00m\u001b[39mintegrate\u001b[39;00m \u001b[39mas\u001b[39;00m \u001b[39mintegrate\u001b[39;00m\n",
      "File \u001b[0;32m~/anaconda3/envs/alg1_alg2/lib/python3.8/site-packages/tensorflow/__init__.py:41\u001b[0m, in \u001b[0;36m<module>\u001b[0;34m\u001b[0m\n\u001b[1;32m     <a href='file:///gpfs/share/home/1900011306/anaconda3/envs/alg1_alg2/lib/python3.8/site-packages/tensorflow/__init__.py?line=37'>38</a>\u001b[0m \u001b[39mimport\u001b[39;00m \u001b[39msix\u001b[39;00m \u001b[39mas\u001b[39;00m \u001b[39m_six\u001b[39;00m\n\u001b[1;32m     <a href='file:///gpfs/share/home/1900011306/anaconda3/envs/alg1_alg2/lib/python3.8/site-packages/tensorflow/__init__.py?line=38'>39</a>\u001b[0m \u001b[39mimport\u001b[39;00m \u001b[39msys\u001b[39;00m \u001b[39mas\u001b[39;00m \u001b[39m_sys\u001b[39;00m\n\u001b[0;32m---> <a href='file:///gpfs/share/home/1900011306/anaconda3/envs/alg1_alg2/lib/python3.8/site-packages/tensorflow/__init__.py?line=40'>41</a>\u001b[0m \u001b[39mfrom\u001b[39;00m \u001b[39mtensorflow\u001b[39;00m\u001b[39m.\u001b[39;00m\u001b[39mpython\u001b[39;00m\u001b[39m.\u001b[39;00m\u001b[39mtools\u001b[39;00m \u001b[39mimport\u001b[39;00m module_util \u001b[39mas\u001b[39;00m _module_util\n\u001b[1;32m     <a href='file:///gpfs/share/home/1900011306/anaconda3/envs/alg1_alg2/lib/python3.8/site-packages/tensorflow/__init__.py?line=41'>42</a>\u001b[0m \u001b[39mfrom\u001b[39;00m \u001b[39mtensorflow\u001b[39;00m\u001b[39m.\u001b[39;00m\u001b[39mpython\u001b[39;00m\u001b[39m.\u001b[39;00m\u001b[39mutil\u001b[39;00m\u001b[39m.\u001b[39;00m\u001b[39mlazy_loader\u001b[39;00m \u001b[39mimport\u001b[39;00m LazyLoader \u001b[39mas\u001b[39;00m _LazyLoader\n\u001b[1;32m     <a href='file:///gpfs/share/home/1900011306/anaconda3/envs/alg1_alg2/lib/python3.8/site-packages/tensorflow/__init__.py?line=43'>44</a>\u001b[0m \u001b[39m# Make sure code inside the TensorFlow codebase can use tf2.enabled() at import.\u001b[39;00m\n",
      "File \u001b[0;32m~/anaconda3/envs/alg1_alg2/lib/python3.8/site-packages/tensorflow/python/__init__.py:46\u001b[0m, in \u001b[0;36m<module>\u001b[0;34m\u001b[0m\n\u001b[1;32m     <a href='file:///gpfs/share/home/1900011306/anaconda3/envs/alg1_alg2/lib/python3.8/site-packages/tensorflow/python/__init__.py?line=40'>41</a>\u001b[0m \u001b[39mfrom\u001b[39;00m \u001b[39mtensorflow\u001b[39;00m\u001b[39m.\u001b[39;00m\u001b[39mpython\u001b[39;00m\u001b[39m.\u001b[39;00m\u001b[39meager\u001b[39;00m \u001b[39mimport\u001b[39;00m context\n\u001b[1;32m     <a href='file:///gpfs/share/home/1900011306/anaconda3/envs/alg1_alg2/lib/python3.8/site-packages/tensorflow/python/__init__.py?line=42'>43</a>\u001b[0m \u001b[39m# pylint: enable=wildcard-import\u001b[39;00m\n\u001b[1;32m     <a href='file:///gpfs/share/home/1900011306/anaconda3/envs/alg1_alg2/lib/python3.8/site-packages/tensorflow/python/__init__.py?line=43'>44</a>\u001b[0m \n\u001b[1;32m     <a href='file:///gpfs/share/home/1900011306/anaconda3/envs/alg1_alg2/lib/python3.8/site-packages/tensorflow/python/__init__.py?line=44'>45</a>\u001b[0m \u001b[39m# Bring in subpackages.\u001b[39;00m\n\u001b[0;32m---> <a href='file:///gpfs/share/home/1900011306/anaconda3/envs/alg1_alg2/lib/python3.8/site-packages/tensorflow/python/__init__.py?line=45'>46</a>\u001b[0m \u001b[39mfrom\u001b[39;00m \u001b[39mtensorflow\u001b[39;00m\u001b[39m.\u001b[39;00m\u001b[39mpython\u001b[39;00m \u001b[39mimport\u001b[39;00m data\n\u001b[1;32m     <a href='file:///gpfs/share/home/1900011306/anaconda3/envs/alg1_alg2/lib/python3.8/site-packages/tensorflow/python/__init__.py?line=46'>47</a>\u001b[0m \u001b[39mfrom\u001b[39;00m \u001b[39mtensorflow\u001b[39;00m\u001b[39m.\u001b[39;00m\u001b[39mpython\u001b[39;00m \u001b[39mimport\u001b[39;00m distribute\n\u001b[1;32m     <a href='file:///gpfs/share/home/1900011306/anaconda3/envs/alg1_alg2/lib/python3.8/site-packages/tensorflow/python/__init__.py?line=47'>48</a>\u001b[0m \u001b[39mfrom\u001b[39;00m \u001b[39mtensorflow\u001b[39;00m\u001b[39m.\u001b[39;00m\u001b[39mpython\u001b[39;00m \u001b[39mimport\u001b[39;00m keras\n",
      "File \u001b[0;32m~/anaconda3/envs/alg1_alg2/lib/python3.8/site-packages/tensorflow/python/data/__init__.py:25\u001b[0m, in \u001b[0;36m<module>\u001b[0;34m\u001b[0m\n\u001b[1;32m     <a href='file:///gpfs/share/home/1900011306/anaconda3/envs/alg1_alg2/lib/python3.8/site-packages/tensorflow/python/data/__init__.py?line=21'>22</a>\u001b[0m \u001b[39mfrom\u001b[39;00m \u001b[39m__future__\u001b[39;00m \u001b[39mimport\u001b[39;00m print_function\n\u001b[1;32m     <a href='file:///gpfs/share/home/1900011306/anaconda3/envs/alg1_alg2/lib/python3.8/site-packages/tensorflow/python/data/__init__.py?line=23'>24</a>\u001b[0m \u001b[39m# pylint: disable=unused-import\u001b[39;00m\n\u001b[0;32m---> <a href='file:///gpfs/share/home/1900011306/anaconda3/envs/alg1_alg2/lib/python3.8/site-packages/tensorflow/python/data/__init__.py?line=24'>25</a>\u001b[0m \u001b[39mfrom\u001b[39;00m \u001b[39mtensorflow\u001b[39;00m\u001b[39m.\u001b[39;00m\u001b[39mpython\u001b[39;00m\u001b[39m.\u001b[39;00m\u001b[39mdata\u001b[39;00m \u001b[39mimport\u001b[39;00m experimental\n\u001b[1;32m     <a href='file:///gpfs/share/home/1900011306/anaconda3/envs/alg1_alg2/lib/python3.8/site-packages/tensorflow/python/data/__init__.py?line=25'>26</a>\u001b[0m \u001b[39mfrom\u001b[39;00m \u001b[39mtensorflow\u001b[39;00m\u001b[39m.\u001b[39;00m\u001b[39mpython\u001b[39;00m\u001b[39m.\u001b[39;00m\u001b[39mdata\u001b[39;00m\u001b[39m.\u001b[39;00m\u001b[39mops\u001b[39;00m\u001b[39m.\u001b[39;00m\u001b[39mdataset_ops\u001b[39;00m \u001b[39mimport\u001b[39;00m AUTOTUNE\n\u001b[1;32m     <a href='file:///gpfs/share/home/1900011306/anaconda3/envs/alg1_alg2/lib/python3.8/site-packages/tensorflow/python/data/__init__.py?line=26'>27</a>\u001b[0m \u001b[39mfrom\u001b[39;00m \u001b[39mtensorflow\u001b[39;00m\u001b[39m.\u001b[39;00m\u001b[39mpython\u001b[39;00m\u001b[39m.\u001b[39;00m\u001b[39mdata\u001b[39;00m\u001b[39m.\u001b[39;00m\u001b[39mops\u001b[39;00m\u001b[39m.\u001b[39;00m\u001b[39mdataset_ops\u001b[39;00m \u001b[39mimport\u001b[39;00m Dataset\n",
      "File \u001b[0;32m~/anaconda3/envs/alg1_alg2/lib/python3.8/site-packages/tensorflow/python/data/experimental/__init__.py:97\u001b[0m, in \u001b[0;36m<module>\u001b[0;34m\u001b[0m\n\u001b[1;32m     <a href='file:///gpfs/share/home/1900011306/anaconda3/envs/alg1_alg2/lib/python3.8/site-packages/tensorflow/python/data/experimental/__init__.py?line=94'>95</a>\u001b[0m \u001b[39m# pylint: disable=unused-import\u001b[39;00m\n\u001b[1;32m     <a href='file:///gpfs/share/home/1900011306/anaconda3/envs/alg1_alg2/lib/python3.8/site-packages/tensorflow/python/data/experimental/__init__.py?line=95'>96</a>\u001b[0m \u001b[39mfrom\u001b[39;00m \u001b[39mtensorflow\u001b[39;00m\u001b[39m.\u001b[39;00m\u001b[39mpython\u001b[39;00m\u001b[39m.\u001b[39;00m\u001b[39mdata\u001b[39;00m\u001b[39m.\u001b[39;00m\u001b[39mexperimental\u001b[39;00m \u001b[39mimport\u001b[39;00m service\n\u001b[0;32m---> <a href='file:///gpfs/share/home/1900011306/anaconda3/envs/alg1_alg2/lib/python3.8/site-packages/tensorflow/python/data/experimental/__init__.py?line=96'>97</a>\u001b[0m \u001b[39mfrom\u001b[39;00m \u001b[39mtensorflow\u001b[39;00m\u001b[39m.\u001b[39;00m\u001b[39mpython\u001b[39;00m\u001b[39m.\u001b[39;00m\u001b[39mdata\u001b[39;00m\u001b[39m.\u001b[39;00m\u001b[39mexperimental\u001b[39;00m\u001b[39m.\u001b[39;00m\u001b[39mops\u001b[39;00m\u001b[39m.\u001b[39;00m\u001b[39mbatching\u001b[39;00m \u001b[39mimport\u001b[39;00m dense_to_ragged_batch\n\u001b[1;32m     <a href='file:///gpfs/share/home/1900011306/anaconda3/envs/alg1_alg2/lib/python3.8/site-packages/tensorflow/python/data/experimental/__init__.py?line=97'>98</a>\u001b[0m \u001b[39mfrom\u001b[39;00m \u001b[39mtensorflow\u001b[39;00m\u001b[39m.\u001b[39;00m\u001b[39mpython\u001b[39;00m\u001b[39m.\u001b[39;00m\u001b[39mdata\u001b[39;00m\u001b[39m.\u001b[39;00m\u001b[39mexperimental\u001b[39;00m\u001b[39m.\u001b[39;00m\u001b[39mops\u001b[39;00m\u001b[39m.\u001b[39;00m\u001b[39mbatching\u001b[39;00m \u001b[39mimport\u001b[39;00m dense_to_sparse_batch\n\u001b[1;32m     <a href='file:///gpfs/share/home/1900011306/anaconda3/envs/alg1_alg2/lib/python3.8/site-packages/tensorflow/python/data/experimental/__init__.py?line=98'>99</a>\u001b[0m \u001b[39mfrom\u001b[39;00m \u001b[39mtensorflow\u001b[39;00m\u001b[39m.\u001b[39;00m\u001b[39mpython\u001b[39;00m\u001b[39m.\u001b[39;00m\u001b[39mdata\u001b[39;00m\u001b[39m.\u001b[39;00m\u001b[39mexperimental\u001b[39;00m\u001b[39m.\u001b[39;00m\u001b[39mops\u001b[39;00m\u001b[39m.\u001b[39;00m\u001b[39mbatching\u001b[39;00m \u001b[39mimport\u001b[39;00m map_and_batch\n",
      "File \u001b[0;32m<frozen importlib._bootstrap>:991\u001b[0m, in \u001b[0;36m_find_and_load\u001b[0;34m(name, import_)\u001b[0m\n",
      "File \u001b[0;32m<frozen importlib._bootstrap>:971\u001b[0m, in \u001b[0;36m_find_and_load_unlocked\u001b[0;34m(name, import_)\u001b[0m\n",
      "File \u001b[0;32m<frozen importlib._bootstrap>:914\u001b[0m, in \u001b[0;36m_find_spec\u001b[0;34m(name, path, target)\u001b[0m\n",
      "File \u001b[0;32m<frozen importlib._bootstrap_external>:1407\u001b[0m, in \u001b[0;36mfind_spec\u001b[0;34m(cls, fullname, path, target)\u001b[0m\n",
      "File \u001b[0;32m<frozen importlib._bootstrap_external>:1379\u001b[0m, in \u001b[0;36m_get_spec\u001b[0;34m(cls, fullname, path, target)\u001b[0m\n",
      "File \u001b[0;32m<frozen importlib._bootstrap_external>:1539\u001b[0m, in \u001b[0;36mfind_spec\u001b[0;34m(self, fullname, target)\u001b[0m\n",
      "File \u001b[0;32m<frozen importlib._bootstrap_external>:156\u001b[0m, in \u001b[0;36m_path_isfile\u001b[0;34m(path)\u001b[0m\n",
      "File \u001b[0;32m<frozen importlib._bootstrap_external>:148\u001b[0m, in \u001b[0;36m_path_is_mode_type\u001b[0;34m(path, mode)\u001b[0m\n",
      "File \u001b[0;32m<frozen importlib._bootstrap_external>:142\u001b[0m, in \u001b[0;36m_path_stat\u001b[0;34m(path)\u001b[0m\n",
      "\u001b[0;31mKeyboardInterrupt\u001b[0m: "
     ]
    }
   ],
   "source": [
    "import optimize_pulse\n",
    "optimize_pulse.optimize_pulse()\n"
   ]
  },
  {
   "cell_type": "code",
   "execution_count": null,
   "metadata": {},
   "outputs": [
    {
     "ename": "",
     "evalue": "",
     "output_type": "error",
     "traceback": [
      "\u001b[1;31mJupyter cannot be started. Error attempting to locate jupyter: Select an Interpreter to start Jupyter\n",
      "Run the following command to install 'jupyter and notebook' into the Python environment. \n",
      "Command: 'python -m pip install jupyter notebook -U\n",
      "or\n",
      "conda install jupyter notebook -U'\n",
      "Click <a href='https://aka.ms/installJupyterForVSCode'>here</a> for more info."
     ]
    }
   ],
   "source": [
    "import simu_heating\n",
    "simu_heating.num_heating_error()\n",
    "simu_heating.bound_eq26()"
   ]
  }
 ],
 "metadata": {
  "interpreter": {
   "hash": "654d61ce0e3d19450285a7adc75acb17b8bbd5f73dcd7a6500957e93c9dcc42d"
  },
  "kernelspec": {
   "display_name": "Python 3.10.4 ('alg1_alg2')",
   "language": "python",
   "name": "python3"
  },
  "language_info": {
   "codemirror_mode": {
    "name": "ipython",
    "version": 3
   },
   "file_extension": ".py",
   "mimetype": "text/x-python",
   "name": "python",
   "nbconvert_exporter": "python",
   "pygments_lexer": "ipython3",
   "version": "3.8.13"
  },
  "orig_nbformat": 4
 },
 "nbformat": 4,
 "nbformat_minor": 2
}
