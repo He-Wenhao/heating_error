{
 "cells": [
  {
   "cell_type": "code",
   "execution_count": 3,
   "metadata": {},
   "outputs": [
    {
     "ename": "FileNotFoundError",
     "evalue": "[Errno 2] No such file or directory: './configurations'",
     "output_type": "error",
     "traceback": [
      "\u001b[0;31m---------------------------------------------------------------------------\u001b[0m",
      "\u001b[0;31mFileNotFoundError\u001b[0m                         Traceback (most recent call last)",
      "\u001b[1;32m/gpfs/share/home/1900011306/alg1_alg2/examples/all_optimized30/all.ipynb Cell 1'\u001b[0m in \u001b[0;36m<cell line: 3>\u001b[0;34m()\u001b[0m\n\u001b[1;32m      <a href='vscode-notebook-cell://ssh-remote%2B7b22686f73744e616d65223a225765696d696e6731227d/gpfs/share/home/1900011306/alg1_alg2/examples/all_optimized30/all.ipynb#ch0000000vscode-remote?line=0'>1</a>\u001b[0m \u001b[39mimport\u001b[39;00m \u001b[39mos\u001b[39;00m\n\u001b[1;32m      <a href='vscode-notebook-cell://ssh-remote%2B7b22686f73744e616d65223a225765696d696e6731227d/gpfs/share/home/1900011306/alg1_alg2/examples/all_optimized30/all.ipynb#ch0000000vscode-remote?line=1'>2</a>\u001b[0m \u001b[39mimport\u001b[39;00m \u001b[39mshutil\u001b[39;00m\n\u001b[0;32m----> <a href='vscode-notebook-cell://ssh-remote%2B7b22686f73744e616d65223a225765696d696e6731227d/gpfs/share/home/1900011306/alg1_alg2/examples/all_optimized30/all.ipynb#ch0000000vscode-remote?line=2'>3</a>\u001b[0m shutil\u001b[39m.\u001b[39;49mrmtree(\u001b[39m'\u001b[39;49m\u001b[39m./configurations\u001b[39;49m\u001b[39m'\u001b[39;49m)\n",
      "File \u001b[0;32m~/anaconda3/envs/alg1_alg2/lib/python3.8/shutil.py:709\u001b[0m, in \u001b[0;36mrmtree\u001b[0;34m(path, ignore_errors, onerror)\u001b[0m\n\u001b[1;32m    <a href='file:///gpfs/share/home/1900011306/anaconda3/envs/alg1_alg2/lib/python3.8/shutil.py?line=706'>707</a>\u001b[0m     orig_st \u001b[39m=\u001b[39m os\u001b[39m.\u001b[39mlstat(path)\n\u001b[1;32m    <a href='file:///gpfs/share/home/1900011306/anaconda3/envs/alg1_alg2/lib/python3.8/shutil.py?line=707'>708</a>\u001b[0m \u001b[39mexcept\u001b[39;00m \u001b[39mException\u001b[39;00m:\n\u001b[0;32m--> <a href='file:///gpfs/share/home/1900011306/anaconda3/envs/alg1_alg2/lib/python3.8/shutil.py?line=708'>709</a>\u001b[0m     onerror(os\u001b[39m.\u001b[39;49mlstat, path, sys\u001b[39m.\u001b[39;49mexc_info())\n\u001b[1;32m    <a href='file:///gpfs/share/home/1900011306/anaconda3/envs/alg1_alg2/lib/python3.8/shutil.py?line=709'>710</a>\u001b[0m     \u001b[39mreturn\u001b[39;00m\n\u001b[1;32m    <a href='file:///gpfs/share/home/1900011306/anaconda3/envs/alg1_alg2/lib/python3.8/shutil.py?line=710'>711</a>\u001b[0m \u001b[39mtry\u001b[39;00m:\n",
      "File \u001b[0;32m~/anaconda3/envs/alg1_alg2/lib/python3.8/shutil.py:707\u001b[0m, in \u001b[0;36mrmtree\u001b[0;34m(path, ignore_errors, onerror)\u001b[0m\n\u001b[1;32m    <a href='file:///gpfs/share/home/1900011306/anaconda3/envs/alg1_alg2/lib/python3.8/shutil.py?line=703'>704</a>\u001b[0m \u001b[39m# Note: To guard against symlink races, we use the standard\u001b[39;00m\n\u001b[1;32m    <a href='file:///gpfs/share/home/1900011306/anaconda3/envs/alg1_alg2/lib/python3.8/shutil.py?line=704'>705</a>\u001b[0m \u001b[39m# lstat()/open()/fstat() trick.\u001b[39;00m\n\u001b[1;32m    <a href='file:///gpfs/share/home/1900011306/anaconda3/envs/alg1_alg2/lib/python3.8/shutil.py?line=705'>706</a>\u001b[0m \u001b[39mtry\u001b[39;00m:\n\u001b[0;32m--> <a href='file:///gpfs/share/home/1900011306/anaconda3/envs/alg1_alg2/lib/python3.8/shutil.py?line=706'>707</a>\u001b[0m     orig_st \u001b[39m=\u001b[39m os\u001b[39m.\u001b[39;49mlstat(path)\n\u001b[1;32m    <a href='file:///gpfs/share/home/1900011306/anaconda3/envs/alg1_alg2/lib/python3.8/shutil.py?line=707'>708</a>\u001b[0m \u001b[39mexcept\u001b[39;00m \u001b[39mException\u001b[39;00m:\n\u001b[1;32m    <a href='file:///gpfs/share/home/1900011306/anaconda3/envs/alg1_alg2/lib/python3.8/shutil.py?line=708'>709</a>\u001b[0m     onerror(os\u001b[39m.\u001b[39mlstat, path, sys\u001b[39m.\u001b[39mexc_info())\n",
      "\u001b[0;31mFileNotFoundError\u001b[0m: [Errno 2] No such file or directory: './configurations'"
     ]
    }
   ],
   "source": [
    "\n",
    "import os\n",
    "import shutil\n",
    "shutil.rmtree('./configurations')"
   ]
  },
  {
   "cell_type": "code",
   "execution_count": 4,
   "metadata": {},
   "outputs": [
    {
     "name": "stdout",
     "output_type": "stream",
     "text": [
      "---  new folder ./configurations/N11  ---\n",
      "---  new folder ./configurations/N12  ---\n",
      "---  new folder ./configurations/N13  ---\n",
      "---  new folder ./configurations/N14  ---\n",
      "---  new folder ./configurations/N15  ---\n",
      "---  new folder ./configurations/N16  ---\n",
      "---  new folder ./configurations/N17  ---\n",
      "---  new folder ./configurations/N18  ---\n",
      "---  new folder ./configurations/N19  ---\n",
      "---  new folder ./configurations/N20  ---\n",
      "---  new folder ./configurations/N21  ---\n",
      "---  new folder ./configurations/N22  ---\n",
      "---  new folder ./configurations/N23  ---\n",
      "---  new folder ./configurations/N24  ---\n",
      "---  new folder ./configurations/N25  ---\n",
      "---  new folder ./configurations/N26  ---\n",
      "---  new folder ./configurations/N27  ---\n",
      "---  new folder ./configurations/N28  ---\n",
      "---  new folder ./configurations/N29  ---\n",
      "---  new folder ./configurations/N30  ---\n"
     ]
    }
   ],
   "source": [
    "import set_configs\n",
    "set_configs.create_config()"
   ]
  },
  {
   "cell_type": "code",
   "execution_count": 5,
   "metadata": {},
   "outputs": [
    {
     "name": "stdout",
     "output_type": "stream",
     "text": [
      "--- N = 27 finished ---\n",
      "--- N = 15 finished ---\n",
      "--- N = 11 finished ---\n",
      "--- N = 28 finished ---\n",
      "--- N = 16 finished ---\n",
      "--- N = 30 finished ---\n",
      "--- N = 29 finished ---\n",
      "--- N = 17 finished ---\n",
      "--- N = 23 finished ---\n",
      "--- N = 18 finished ---\n",
      "--- N = 24 finished ---\n",
      "--- N = 20 finished ---\n",
      "--- N = 12 finished ---\n",
      "--- N = 19 finished ---\n",
      "--- N = 25 finished ---\n",
      "--- N = 21 finished ---\n",
      "--- N = 13 finished ---\n",
      "--- N = 26 finished ---\n",
      "--- N = 22 finished ---\n",
      "--- N = 14 finished ---\n"
     ]
    }
   ],
   "source": [
    "import compute_phonon\n",
    "compute_phonon.compute_phonon()"
   ]
  },
  {
   "cell_type": "code",
   "execution_count": null,
   "metadata": {},
   "outputs": [],
   "source": [
    "import optimize_pulse\n",
    "optimize_pulse.optimize_pulse()\n"
   ]
  },
  {
   "cell_type": "code",
   "execution_count": null,
   "metadata": {},
   "outputs": [],
   "source": [
    "import simu_heating\n",
    "simu_heating.num_heating_error()\n",
    "simu_heating.bound_eq26()"
   ]
  }
 ],
 "metadata": {
  "interpreter": {
   "hash": "654d61ce0e3d19450285a7adc75acb17b8bbd5f73dcd7a6500957e93c9dcc42d"
  },
  "kernelspec": {
   "display_name": "Python 3.10.4 ('alg1_alg2')",
   "language": "python",
   "name": "python3"
  },
  "language_info": {
   "codemirror_mode": {
    "name": "ipython",
    "version": 3
   },
   "file_extension": ".py",
   "mimetype": "text/x-python",
   "name": "python",
   "nbconvert_exporter": "python",
   "pygments_lexer": "ipython3",
   "version": "3.8.13"
  },
  "orig_nbformat": 4
 },
 "nbformat": 4,
 "nbformat_minor": 2
}
