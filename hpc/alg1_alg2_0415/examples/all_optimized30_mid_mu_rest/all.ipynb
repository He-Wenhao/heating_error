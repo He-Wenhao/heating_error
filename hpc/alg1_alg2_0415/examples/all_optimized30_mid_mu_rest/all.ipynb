{
 "cells": [
  {
   "cell_type": "code",
   "execution_count": 1,
   "metadata": {},
   "outputs": [],
   "source": [
    "\n",
    "import os\n",
    "import shutil\n",
    "shutil.rmtree('./configurations')"
   ]
  },
  {
   "cell_type": "code",
   "execution_count": 2,
   "metadata": {},
   "outputs": [
    {
     "name": "stdout",
     "output_type": "stream",
     "text": [
      "---  new folder ./configurations/N11  ---\n",
      "---  new folder ./configurations/N12  ---\n",
      "---  new folder ./configurations/N13  ---\n",
      "---  new folder ./configurations/N14  ---\n",
      "---  new folder ./configurations/N15  ---\n",
      "---  new folder ./configurations/N16  ---\n",
      "---  new folder ./configurations/N17  ---\n",
      "---  new folder ./configurations/N18  ---\n",
      "---  new folder ./configurations/N19  ---\n",
      "---  new folder ./configurations/N20  ---\n",
      "---  new folder ./configurations/N21  ---\n",
      "---  new folder ./configurations/N22  ---\n",
      "---  new folder ./configurations/N23  ---\n",
      "---  new folder ./configurations/N24  ---\n",
      "---  new folder ./configurations/N25  ---\n",
      "---  new folder ./configurations/N26  ---\n",
      "---  new folder ./configurations/N27  ---\n",
      "---  new folder ./configurations/N28  ---\n",
      "---  new folder ./configurations/N29  ---\n",
      "---  new folder ./configurations/N30  ---\n"
     ]
    }
   ],
   "source": [
    "import set_configs\n",
    "set_configs.create_config()"
   ]
  },
  {
   "cell_type": "code",
   "execution_count": 3,
   "metadata": {},
   "outputs": [
    {
     "name": "stdout",
     "output_type": "stream",
     "text": [
      "--- N = 27 finished ---\n",
      "--- N = 15 finished ---\n",
      "--- N = 11 finished ---\n",
      "--- N = 28 finished ---\n",
      "--- N = 16 finished ---\n",
      "--- N = 30 finished ---\n",
      "--- N = 29 finished ---\n",
      "--- N = 17 finished ---\n",
      "--- N = 23 finished ---\n",
      "--- N = 18 finished ---\n",
      "--- N = 24 finished ---\n",
      "--- N = 20 finished ---\n",
      "--- N = 12 finished ---\n",
      "--- N = 19 finished ---\n",
      "--- N = 25 finished ---\n",
      "--- N = 21 finished ---\n",
      "--- N = 13 finished ---\n",
      "--- N = 26 finished ---\n",
      "--- N = 22 finished ---\n",
      "--- N = 14 finished ---\n"
     ]
    }
   ],
   "source": [
    "import compute_phonon\n",
    "compute_phonon.compute_phonon()"
   ]
  },
  {
   "cell_type": "code",
   "execution_count": 4,
   "metadata": {},
   "outputs": [
    {
     "ename": "ModuleNotFoundError",
     "evalue": "No module named 'tensorflow'",
     "output_type": "error",
     "traceback": [
      "\u001b[0;31m---------------------------------------------------------------------------\u001b[0m",
      "\u001b[0;31mModuleNotFoundError\u001b[0m                       Traceback (most recent call last)",
      "\u001b[0;32m<ipython-input-4-15c223f92f4b>\u001b[0m in \u001b[0;36m<module>\u001b[0;34m\u001b[0m\n\u001b[0;32m----> 1\u001b[0;31m \u001b[0;32mimport\u001b[0m \u001b[0moptimize_pulse\u001b[0m\u001b[0;34m\u001b[0m\u001b[0;34m\u001b[0m\u001b[0m\n\u001b[0m\u001b[1;32m      2\u001b[0m \u001b[0moptimize_pulse\u001b[0m\u001b[0;34m.\u001b[0m\u001b[0moptimize_pulse\u001b[0m\u001b[0;34m(\u001b[0m\u001b[0;34m)\u001b[0m\u001b[0;34m\u001b[0m\u001b[0;34m\u001b[0m\u001b[0m\n",
      "\u001b[0;32m~/alg1_alg2/examples/all_optimized30_mid_mu_rest/optimize_pulse.py\u001b[0m in \u001b[0;36m<module>\u001b[0;34m\u001b[0m\n\u001b[1;32m      6\u001b[0m \u001b[0msys\u001b[0m\u001b[0;34m.\u001b[0m\u001b[0mpath\u001b[0m\u001b[0;34m.\u001b[0m\u001b[0mappend\u001b[0m\u001b[0;34m(\u001b[0m\u001b[0;34m'../..'\u001b[0m\u001b[0;34m)\u001b[0m\u001b[0;34m\u001b[0m\u001b[0;34m\u001b[0m\u001b[0m\n\u001b[1;32m      7\u001b[0m \u001b[0;32mfrom\u001b[0m \u001b[0mmy_constants\u001b[0m \u001b[0;32mimport\u001b[0m \u001b[0;34m*\u001b[0m\u001b[0;34m\u001b[0m\u001b[0;34m\u001b[0m\u001b[0m\n\u001b[0;32m----> 8\u001b[0;31m \u001b[0;32mfrom\u001b[0m \u001b[0msyc_amp\u001b[0m\u001b[0;34m.\u001b[0m\u001b[0mwave_pulse\u001b[0m \u001b[0;32mimport\u001b[0m \u001b[0msyc_amp\u001b[0m\u001b[0;34m\u001b[0m\u001b[0;34m\u001b[0m\u001b[0m\n\u001b[0m\u001b[1;32m      9\u001b[0m \u001b[0;34m\u001b[0m\u001b[0m\n\u001b[1;32m     10\u001b[0m \u001b[0mprefix\u001b[0m \u001b[0;34m=\u001b[0m \u001b[0;34m'./configurations'\u001b[0m\u001b[0;34m\u001b[0m\u001b[0;34m\u001b[0m\u001b[0m\n",
      "\u001b[0;32m~/alg1_alg2/syc_amp/wave_pulse.py\u001b[0m in \u001b[0;36m<module>\u001b[0;34m\u001b[0m\n\u001b[1;32m      3\u001b[0m \u001b[0;32mimport\u001b[0m \u001b[0mmatplotlib\u001b[0m\u001b[0;34m.\u001b[0m\u001b[0mpyplot\u001b[0m \u001b[0;32mas\u001b[0m \u001b[0mplt\u001b[0m\u001b[0;34m\u001b[0m\u001b[0;34m\u001b[0m\u001b[0m\n\u001b[1;32m      4\u001b[0m \u001b[0;34m\u001b[0m\u001b[0m\n\u001b[0;32m----> 5\u001b[0;31m \u001b[0;32mfrom\u001b[0m \u001b[0;34m.\u001b[0m\u001b[0mpakages\u001b[0m\u001b[0;34m.\u001b[0m\u001b[0mquantum_dynamics_simulation\u001b[0m\u001b[0;34m.\u001b[0m\u001b[0mAM_optimization\u001b[0m \u001b[0;32mimport\u001b[0m \u001b[0;34m*\u001b[0m\u001b[0;34m\u001b[0m\u001b[0;34m\u001b[0m\u001b[0m\n\u001b[0m\u001b[1;32m      6\u001b[0m \u001b[0;32mfrom\u001b[0m \u001b[0;34m.\u001b[0m\u001b[0mpakages\u001b[0m\u001b[0;34m.\u001b[0m\u001b[0mquantum_dynamics_simulation\u001b[0m\u001b[0;34m.\u001b[0m\u001b[0msegmented_simulation\u001b[0m \u001b[0;32mimport\u001b[0m \u001b[0;34m*\u001b[0m\u001b[0;34m\u001b[0m\u001b[0;34m\u001b[0m\u001b[0m\n\u001b[1;32m      7\u001b[0m \u001b[0;32mfrom\u001b[0m \u001b[0;34m.\u001b[0m\u001b[0mpakages\u001b[0m\u001b[0;34m.\u001b[0m\u001b[0mquantum_dynamics_simulation\u001b[0m\u001b[0;34m.\u001b[0m\u001b[0mvisualization\u001b[0m \u001b[0;32mimport\u001b[0m \u001b[0;34m*\u001b[0m\u001b[0;34m\u001b[0m\u001b[0;34m\u001b[0m\u001b[0m\n",
      "\u001b[0;32m~/alg1_alg2/syc_amp/pakages/quantum_dynamics_simulation/AM_optimization.py\u001b[0m in \u001b[0;36m<module>\u001b[0;34m\u001b[0m\n\u001b[1;32m      5\u001b[0m \u001b[0;34m\u001b[0m\u001b[0m\n\u001b[1;32m      6\u001b[0m \u001b[0;32mimport\u001b[0m \u001b[0mnumpy\u001b[0m \u001b[0;32mas\u001b[0m \u001b[0mnp\u001b[0m\u001b[0;34m\u001b[0m\u001b[0;34m\u001b[0m\u001b[0m\n\u001b[0;32m----> 7\u001b[0;31m \u001b[0;32mimport\u001b[0m \u001b[0mtensorflow\u001b[0m \u001b[0;32mas\u001b[0m \u001b[0mtf\u001b[0m\u001b[0;34m\u001b[0m\u001b[0;34m\u001b[0m\u001b[0m\n\u001b[0m\u001b[1;32m      8\u001b[0m \u001b[0;32mimport\u001b[0m \u001b[0mmatplotlib\u001b[0m\u001b[0;34m.\u001b[0m\u001b[0mpyplot\u001b[0m \u001b[0;32mas\u001b[0m \u001b[0mplt\u001b[0m\u001b[0;34m\u001b[0m\u001b[0;34m\u001b[0m\u001b[0m\n\u001b[1;32m      9\u001b[0m \u001b[0;32mimport\u001b[0m \u001b[0mscipy\u001b[0m\u001b[0;34m.\u001b[0m\u001b[0mintegrate\u001b[0m \u001b[0;32mas\u001b[0m \u001b[0mintegrate\u001b[0m\u001b[0;34m\u001b[0m\u001b[0;34m\u001b[0m\u001b[0m\n",
      "\u001b[0;31mModuleNotFoundError\u001b[0m: No module named 'tensorflow'"
     ]
    }
   ],
   "source": [
    "import optimize_pulse\n",
    "optimize_pulse.optimize_pulse()\n"
   ]
  },
  {
   "cell_type": "code",
   "execution_count": null,
   "metadata": {},
   "outputs": [],
   "source": [
    "import simu_heating\n",
    "simu_heating.num_heating_error()\n",
    "simu_heating.bound_eq26()"
   ]
  }
 ],
 "metadata": {
  "interpreter": {
   "hash": "654d61ce0e3d19450285a7adc75acb17b8bbd5f73dcd7a6500957e93c9dcc42d"
  },
  "kernelspec": {
   "display_name": "Python 3.10.4 ('alg1_alg2')",
   "language": "python",
   "name": "python3"
  },
  "language_info": {
   "codemirror_mode": {
    "name": "ipython",
    "version": 3
   },
   "file_extension": ".py",
   "mimetype": "text/x-python",
   "name": "python",
   "nbconvert_exporter": "python",
   "pygments_lexer": "ipython3",
   "version": "3.7.1"
  },
  "orig_nbformat": 4
 },
 "nbformat": 4,
 "nbformat_minor": 2
}
