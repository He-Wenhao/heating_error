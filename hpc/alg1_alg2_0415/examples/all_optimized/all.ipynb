{
 "cells": [
  {
   "cell_type": "code",
   "execution_count": null,
   "metadata": {},
   "outputs": [],
   "source": [
    "\n",
    "import os\n",
    "import shutil\n",
    "shutil.rmtree('./configurations')"
   ]
  },
  {
   "cell_type": "code",
   "execution_count": null,
   "metadata": {},
   "outputs": [],
   "source": [
    "import set_configs\n",
    "set_configs.create_config()"
   ]
  },
  {
   "cell_type": "code",
   "execution_count": null,
   "metadata": {},
   "outputs": [],
   "source": [
    "import compute_phonon\n",
    "compute_phonon.compute_phonon()"
   ]
  },
  {
   "cell_type": "code",
   "execution_count": null,
   "metadata": {},
   "outputs": [],
   "source": [
    "import optimize_pulse\n",
    "optimize_pulse.optimize_pulse()\n"
   ]
  },
  {
   "cell_type": "code",
   "execution_count": null,
   "metadata": {},
   "outputs": [],
   "source": [
    "import simu_heating\n",
    "simu_heating.num_heating_error()\n",
    "simu_heating.bound_eq26()"
   ]
  }
 ],
 "metadata": {
  "interpreter": {
   "hash": "654d61ce0e3d19450285a7adc75acb17b8bbd5f73dcd7a6500957e93c9dcc42d"
  },
  "kernelspec": {
   "display_name": "Python 3.10.4 ('alg1_alg2')",
   "language": "python",
   "name": "python3"
  },
  "language_info": {
   "codemirror_mode": {
    "name": "ipython",
    "version": 3
   },
   "file_extension": ".py",
   "mimetype": "text/x-python",
   "name": "python",
   "nbconvert_exporter": "python",
   "pygments_lexer": "ipython3",
   "version": "3.10.4"
  },
  "orig_nbformat": 4
 },
 "nbformat": 4,
 "nbformat_minor": 2
}
