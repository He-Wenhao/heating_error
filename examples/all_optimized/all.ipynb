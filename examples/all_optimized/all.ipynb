{
 "cells": [
  {
   "cell_type": "code",
   "execution_count": 1,
   "metadata": {},
   "outputs": [],
   "source": [
    "\n",
    "import os\n",
    "import shutil\n",
    "shutil.rmtree('./configurations')"
   ]
  },
  {
   "cell_type": "code",
   "execution_count": 2,
   "metadata": {},
   "outputs": [
    {
     "name": "stdout",
     "output_type": "stream",
     "text": [
      "---  new folder ./configurations/N2  ---\n",
      "---  new folder ./configurations/N3  ---\n",
      "---  new folder ./configurations/N4  ---\n",
      "---  new folder ./configurations/N5  ---\n",
      "---  new folder ./configurations/N6  ---\n",
      "---  new folder ./configurations/N7  ---\n",
      "---  new folder ./configurations/N8  ---\n",
      "---  new folder ./configurations/N9  ---\n",
      "---  new folder ./configurations/N10  ---\n",
      "---  new folder ./configurations/N11  ---\n",
      "---  new folder ./configurations/N12  ---\n"
     ]
    }
   ],
   "source": [
    "import set_configs\n",
    "set_configs.create_config()"
   ]
  },
  {
   "cell_type": "code",
   "execution_count": 3,
   "metadata": {},
   "outputs": [
    {
     "name": "stdout",
     "output_type": "stream",
     "text": [
      "--- N = 12 finished ---\n",
      "--- N = 7 finished ---\n",
      "--- N = 9 finished ---\n",
      "--- N = 8 finished ---\n",
      "--- N = 6 finished ---\n",
      "--- N = 11 finished ---\n",
      "--- N = 10 finished ---\n",
      "--- N = 4 finished ---\n",
      "--- N = 3 finished ---\n",
      "--- N = 2 finished ---\n",
      "--- N = 5 finished ---\n"
     ]
    }
   ],
   "source": [
    "import compute_phonon\n",
    "compute_phonon.compute_phonon()"
   ]
  },
  {
   "cell_type": "code",
   "execution_count": 4,
   "metadata": {},
   "outputs": [
    {
     "name": "stdout",
     "output_type": "stream",
     "text": [
      "[[-0.7071067811865475, 0.7071067811865475], [0.7071067811865475, 0.7071067811865475]]\n",
      "----- N 2 segNum 10 -----\n",
      "detuning [-0.03815759911898105, 0.03815759911898105]\n",
      "tau 10.0\n",
      "mode [[-0.70710678  0.70710678]\n",
      " [ 0.70710678  0.70710678]]\n",
      "k_list [0, 1]\n"
     ]
    },
    {
     "name": "stderr",
     "output_type": "stream",
     "text": [
      "2022-04-13 02:06:03.691431: I tensorflow/core/platform/cpu_feature_guard.cc:151] This TensorFlow binary is optimized with oneAPI Deep Neural Network Library (oneDNN) to use the following CPU instructions in performance-critical operations:  AVX2 FMA\n",
      "To enable them in other operations, rebuild TensorFlow with the appropriate compiler flags.\n"
     ]
    },
    {
     "name": "stdout",
     "output_type": "stream",
     "text": [
      "this ions should have laser shined:  [0 1]\n",
      ">>>>>>>>>> P and G calculate time used is: 0.9958679676055908 seconds\n",
      "error: 3.529218159444591e-14\n",
      ">>>>>>>>>> optimization time used is: 0.5052728652954102 seconds\n",
      "alpha max are: [1, 1]  for phonon cut-off in simulation\n",
      "./calculation results/data/\n"
     ]
    },
    {
     "ename": "FileNotFoundError",
     "evalue": "[Errno 2] No such file or directory: './calculation results/data/optimized_X.npy'",
     "output_type": "error",
     "traceback": [
      "\u001b[0;31m---------------------------------------------------------------------------\u001b[0m",
      "\u001b[0;31mFileNotFoundError\u001b[0m                         Traceback (most recent call last)",
      "\u001b[1;32m/Users/hewenhao/Desktop/huawei/alg1_alg2/examples/all_optimized/all.ipynb Cell 4'\u001b[0m in \u001b[0;36m<cell line: 2>\u001b[0;34m()\u001b[0m\n\u001b[1;32m      <a href='vscode-notebook-cell:/Users/hewenhao/Desktop/huawei/alg1_alg2/examples/all_optimized/all.ipynb#ch0000004?line=0'>1</a>\u001b[0m \u001b[39mimport\u001b[39;00m \u001b[39moptimize_pulse\u001b[39;00m\n\u001b[0;32m----> <a href='vscode-notebook-cell:/Users/hewenhao/Desktop/huawei/alg1_alg2/examples/all_optimized/all.ipynb#ch0000004?line=1'>2</a>\u001b[0m optimize_pulse\u001b[39m.\u001b[39;49moptimize_pulse()\n",
      "File \u001b[0;32m~/Desktop/huawei/alg1_alg2/examples/all_optimized/optimize_pulse.py:51\u001b[0m, in \u001b[0;36moptimize_pulse\u001b[0;34m()\u001b[0m\n\u001b[1;32m     <a href='file:///Users/hewenhao/Desktop/huawei/alg1_alg2/examples/all_optimized/optimize_pulse.py?line=47'>48</a>\u001b[0m \u001b[39m#error = p(N,segNum)\u001b[39;00m\n\u001b[1;32m     <a href='file:///Users/hewenhao/Desktop/huawei/alg1_alg2/examples/all_optimized/optimize_pulse.py?line=48'>49</a>\u001b[0m \u001b[39m#in syc_amp MHz = us = 1\u001b[39;00m\n\u001b[1;32m     <a href='file:///Users/hewenhao/Desktop/huawei/alg1_alg2/examples/all_optimized/optimize_pulse.py?line=49'>50</a>\u001b[0m syc \u001b[39m=\u001b[39m syc_amp(ion_number\u001b[39m=\u001b[39mN_ions,j_list\u001b[39m=\u001b[39mj_ions,omega\u001b[39m=\u001b[39m[(x \u001b[39m-\u001b[39m mu)\u001b[39m/\u001b[39mMHz \u001b[39mfor\u001b[39;00m x \u001b[39min\u001b[39;00m Z_freqcal],bij\u001b[39m=\u001b[39mnp\u001b[39m.\u001b[39mmatrix(Z_modes)\u001b[39m.\u001b[39mtranspose(),tau\u001b[39m=\u001b[39mdelta_t\u001b[39m*\u001b[39msegNum\u001b[39m/\u001b[39mus,segment_num\u001b[39m=\u001b[39msegNum,lamb_dicke\u001b[39m=\u001b[39mlamb_dicke,mu \u001b[39m=\u001b[39m mu\u001b[39m/\u001b[39mMHz)\n\u001b[0;32m---> <a href='file:///Users/hewenhao/Desktop/huawei/alg1_alg2/examples/all_optimized/optimize_pulse.py?line=50'>51</a>\u001b[0m syc\u001b[39m.\u001b[39;49mfunc2_optimize_process_save_data(plotfig\u001b[39m=\u001b[39;49m\u001b[39mFalse\u001b[39;49;00m, pulse_symmetry \u001b[39m=\u001b[39;49m \u001b[39mFalse\u001b[39;49;00m, ions_same_amps \u001b[39m=\u001b[39;49m \u001b[39mTrue\u001b[39;49;00m)\n\u001b[1;32m     <a href='file:///Users/hewenhao/Desktop/huawei/alg1_alg2/examples/all_optimized/optimize_pulse.py?line=52'>53</a>\u001b[0m syc\u001b[39m.\u001b[39mimport_amp()\n\u001b[1;32m     <a href='file:///Users/hewenhao/Desktop/huawei/alg1_alg2/examples/all_optimized/optimize_pulse.py?line=53'>54</a>\u001b[0m syc\u001b[39m.\u001b[39mprint_amp()\n",
      "File \u001b[0;32m~/Desktop/huawei/alg1_alg2/examples/all_optimized/../../syc_amp/wave_pulse.py:67\u001b[0m, in \u001b[0;36msyc_amp.func2_optimize_process_save_data\u001b[0;34m(self, plotfig, pulse_symmetry, ions_same_amps)\u001b[0m\n\u001b[1;32m     <a href='file:///Users/hewenhao/Desktop/huawei/alg1_alg2/examples/all_optimized/../../syc_amp/wave_pulse.py?line=63'>64</a>\u001b[0m     op\u001b[39m.\u001b[39mJij_plot()\n\u001b[1;32m     <a href='file:///Users/hewenhao/Desktop/huawei/alg1_alg2/examples/all_optimized/../../syc_amp/wave_pulse.py?line=65'>66</a>\u001b[0m \u001b[39m#   3. 保存数据\u001b[39;00m\n\u001b[0;32m---> <a href='file:///Users/hewenhao/Desktop/huawei/alg1_alg2/examples/all_optimized/../../syc_amp/wave_pulse.py?line=66'>67</a>\u001b[0m op\u001b[39m.\u001b[39;49msave_data()\n",
      "File \u001b[0;32m~/Desktop/huawei/alg1_alg2/examples/all_optimized/../../syc_amp/pakages/quantum_dynamics_simulation/AM_optimization.py:347\u001b[0m, in \u001b[0;36mAM_optimize.save_data\u001b[0;34m(self)\u001b[0m\n\u001b[1;32m    <a href='file:///Users/hewenhao/Desktop/huawei/alg1_alg2/examples/all_optimized/../../syc_amp/pakages/quantum_dynamics_simulation/AM_optimization.py?line=344'>345</a>\u001b[0m \u001b[39mprint\u001b[39m(folder_path)\n\u001b[1;32m    <a href='file:///Users/hewenhao/Desktop/huawei/alg1_alg2/examples/all_optimized/../../syc_amp/pakages/quantum_dynamics_simulation/AM_optimization.py?line=345'>346</a>\u001b[0m \u001b[39m#   保存 model_pulse_op_X 到npy文件\u001b[39;00m\n\u001b[0;32m--> <a href='file:///Users/hewenhao/Desktop/huawei/alg1_alg2/examples/all_optimized/../../syc_amp/pakages/quantum_dynamics_simulation/AM_optimization.py?line=346'>347</a>\u001b[0m np\u001b[39m.\u001b[39;49msave(folder_path \u001b[39m+\u001b[39;49m \u001b[39m\"\u001b[39;49m\u001b[39moptimized_X.npy\u001b[39;49m\u001b[39m\"\u001b[39;49m, \u001b[39mself\u001b[39;49m\u001b[39m.\u001b[39;49mX)\n\u001b[1;32m    <a href='file:///Users/hewenhao/Desktop/huawei/alg1_alg2/examples/all_optimized/../../syc_amp/pakages/quantum_dynamics_simulation/AM_optimization.py?line=347'>348</a>\u001b[0m \u001b[39m#   保存 train_loss_results 到npy文件\u001b[39;00m\n\u001b[1;32m    <a href='file:///Users/hewenhao/Desktop/huawei/alg1_alg2/examples/all_optimized/../../syc_amp/pakages/quantum_dynamics_simulation/AM_optimization.py?line=348'>349</a>\u001b[0m np\u001b[39m.\u001b[39msave(folder_path \u001b[39m+\u001b[39m \u001b[39m\"\u001b[39m\u001b[39mtrain_loss_results.npy\u001b[39m\u001b[39m\"\u001b[39m, \u001b[39mself\u001b[39m\u001b[39m.\u001b[39mtrain_loss_results)\n",
      "File \u001b[0;32m<__array_function__ internals>:180\u001b[0m, in \u001b[0;36msave\u001b[0;34m(*args, **kwargs)\u001b[0m\n",
      "File \u001b[0;32m~/opt/anaconda3/envs/alg1_alg2/lib/python3.10/site-packages/numpy/lib/npyio.py:515\u001b[0m, in \u001b[0;36msave\u001b[0;34m(file, arr, allow_pickle, fix_imports)\u001b[0m\n\u001b[1;32m    <a href='file:///Users/hewenhao/opt/anaconda3/envs/alg1_alg2/lib/python3.10/site-packages/numpy/lib/npyio.py?line=512'>513</a>\u001b[0m     \u001b[39mif\u001b[39;00m \u001b[39mnot\u001b[39;00m file\u001b[39m.\u001b[39mendswith(\u001b[39m'\u001b[39m\u001b[39m.npy\u001b[39m\u001b[39m'\u001b[39m):\n\u001b[1;32m    <a href='file:///Users/hewenhao/opt/anaconda3/envs/alg1_alg2/lib/python3.10/site-packages/numpy/lib/npyio.py?line=513'>514</a>\u001b[0m         file \u001b[39m=\u001b[39m file \u001b[39m+\u001b[39m \u001b[39m'\u001b[39m\u001b[39m.npy\u001b[39m\u001b[39m'\u001b[39m\n\u001b[0;32m--> <a href='file:///Users/hewenhao/opt/anaconda3/envs/alg1_alg2/lib/python3.10/site-packages/numpy/lib/npyio.py?line=514'>515</a>\u001b[0m     file_ctx \u001b[39m=\u001b[39m \u001b[39mopen\u001b[39;49m(file, \u001b[39m\"\u001b[39;49m\u001b[39mwb\u001b[39;49m\u001b[39m\"\u001b[39;49m)\n\u001b[1;32m    <a href='file:///Users/hewenhao/opt/anaconda3/envs/alg1_alg2/lib/python3.10/site-packages/numpy/lib/npyio.py?line=516'>517</a>\u001b[0m \u001b[39mwith\u001b[39;00m file_ctx \u001b[39mas\u001b[39;00m fid:\n\u001b[1;32m    <a href='file:///Users/hewenhao/opt/anaconda3/envs/alg1_alg2/lib/python3.10/site-packages/numpy/lib/npyio.py?line=517'>518</a>\u001b[0m     arr \u001b[39m=\u001b[39m np\u001b[39m.\u001b[39masanyarray(arr)\n",
      "\u001b[0;31mFileNotFoundError\u001b[0m: [Errno 2] No such file or directory: './calculation results/data/optimized_X.npy'"
     ]
    }
   ],
   "source": [
    "import optimize_pulse\n",
    "optimize_pulse.optimize_pulse()\n"
   ]
  }
 ],
 "metadata": {
  "interpreter": {
   "hash": "654d61ce0e3d19450285a7adc75acb17b8bbd5f73dcd7a6500957e93c9dcc42d"
  },
  "kernelspec": {
   "display_name": "Python 3.10.4 ('alg1_alg2')",
   "language": "python",
   "name": "python3"
  },
  "language_info": {
   "codemirror_mode": {
    "name": "ipython",
    "version": 3
   },
   "file_extension": ".py",
   "mimetype": "text/x-python",
   "name": "python",
   "nbconvert_exporter": "python",
   "pygments_lexer": "ipython3",
   "version": "3.10.4"
  },
  "orig_nbformat": 4
 },
 "nbformat": 4,
 "nbformat_minor": 2
}
