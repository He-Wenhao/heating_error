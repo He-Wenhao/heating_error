{
 "cells": [
  {
   "cell_type": "code",
   "execution_count": 1,
   "metadata": {},
   "outputs": [
    {
     "name": "stdout",
     "output_type": "stream",
     "text": [
      "---  new folder ./configurations/N2  ---\n",
      "---  new folder ./configurations/N3  ---\n",
      "---  new folder ./configurations/N4  ---\n"
     ]
    }
   ],
   "source": [
    "\n",
    "import os\n",
    "import shutil\n",
    "shutil.rmtree('./configurations')\n",
    "\n",
    "\n",
    "import set_configs\n",
    "set_configs.create_config()"
   ]
  },
  {
   "cell_type": "code",
   "execution_count": 2,
   "metadata": {},
   "outputs": [
    {
     "name": "stdout",
     "output_type": "stream",
     "text": [
      "--- N = 4 finished ---\n",
      "--- N = 3 finished ---\n",
      "--- N = 2 finished ---\n"
     ]
    }
   ],
   "source": [
    "import compute_phonon\n",
    "compute_phonon.compute_phonon()"
   ]
  },
  {
   "cell_type": "code",
   "execution_count": 3,
   "metadata": {},
   "outputs": [
    {
     "name": "stdout",
     "output_type": "stream",
     "text": [
      "[[-0.7071067811865475, 0.7071067811865475], [0.7071067811865475, 0.7071067811865475]]\n",
      "----- N 2 segNum 10 -----\n",
      "detuning [-0.03815759911898105, 0.03815759911898105]\n",
      "tau 150.0\n",
      "mode [[-0.70710678  0.70710678]\n",
      " [ 0.70710678  0.70710678]]\n",
      "k_list [0, 1]\n"
     ]
    },
    {
     "name": "stderr",
     "output_type": "stream",
     "text": [
      "2022-04-16 09:14:15.296204: I tensorflow/core/platform/cpu_feature_guard.cc:151] This TensorFlow binary is optimized with oneAPI Deep Neural Network Library (oneDNN) to use the following CPU instructions in performance-critical operations:  AVX2 FMA\n",
      "To enable them in other operations, rebuild TensorFlow with the appropriate compiler flags.\n"
     ]
    },
    {
     "name": "stdout",
     "output_type": "stream",
     "text": [
      "this ions should have laser shined:  [0 1]\n",
      ">>>>>>>>>> P and G calculate time used is: 2.362210988998413 seconds\n",
      "error: 3.396286939734819e-06\n",
      "constrain_error 3.189995012586877e-07\n",
      ">>>>>>>>>> optimization time used is: 13.88611102104187 seconds\n",
      "alpha max are: [1, 1]  for phonon cut-off in simulation\n",
      "./calculation results/data/\n",
      "segnum 10 (array([-0.45381407,  0.35244105,  0.47263736,  0.26187397, -0.48469155,\n",
      "       -0.4814733 ,  0.23078731,  0.49690301,  0.34929087, -0.45110415]), array([-0.45381407,  0.35244105,  0.47263736,  0.26187397, -0.48469155,\n",
      "       -0.4814733 ,  0.23078731,  0.49690301,  0.34929087, -0.45110415]))\n",
      "test theta tf.Tensor(\n",
      "[[0.        +0.j 0.39269892+0.j]\n",
      " [0.39269892+0.j 0.        +0.j]], shape=(2, 2), dtype=complex128)\n",
      "----- break -----\n",
      "[[0.4082482904638639, 0.707106781186547, 0.577350269189626], [-0.8164965809277261, 1.1934897514720433e-15, 0.5773502691896253], [0.40824829046386174, -0.7071067811865481, 0.577350269189626]]\n",
      "----- N 3 segNum 15 -----\n",
      "detuning [-0.03407674054392124, 0.03407674054392148, 0.0814536864793105]\n",
      "tau 225.0\n",
      "mode [[ 4.08248290e-01 -8.16496581e-01  4.08248290e-01]\n",
      " [ 7.07106781e-01  1.19348975e-15 -7.07106781e-01]\n",
      " [ 5.77350269e-01  5.77350269e-01  5.77350269e-01]]\n",
      "k_list [0, 1, 2]\n",
      "this ions should have laser shined:  [0 1]\n",
      ">>>>>>>>>> P and G calculate time used is: 16.4059100151062 seconds\n",
      "error: 2.6143455189965214e-06\n",
      "constrain_error 5.643907630137335e-08\n",
      ">>>>>>>>>> optimization time used is: 42.66592979431152 seconds\n",
      "alpha max are: [1, 1, 1]  for phonon cut-off in simulation\n",
      "./calculation results/data/\n",
      "segnum 15 (array([ 0.31734816, -0.49931781,  0.12096367,  0.49982516, -0.09337355,\n",
      "       -0.49945292,  0.01878116,  0.49937327, -0.02499472, -0.49986281,\n",
      "        0.28265159,  0.49636378, -0.38259107, -0.4918291 ,  0.49017677]), array([ 0.31734816, -0.49931781,  0.12096367,  0.49982516, -0.09337355,\n",
      "       -0.49945292,  0.01878116,  0.49937327, -0.02499472, -0.49986281,\n",
      "        0.28265159,  0.49636378, -0.38259107, -0.4918291 ,  0.49017677]))\n",
      "test theta tf.Tensor(\n",
      "[[0.39269905+0.j 0.39269905+0.j 0.        +0.j]\n",
      " [0.39269905+0.j 0.17274122+0.j 0.        +0.j]\n",
      " [0.        +0.j 0.        +0.j 0.        +0.j]], shape=(3, 3), dtype=complex128)\n",
      "----- break -----\n",
      "[[-0.25490142421265394, 0.49999999999999944, 0.6595644501747807, -0.5000000000000004], [0.6595644501747815, -0.49999999999999944, 0.25490142421265394, -0.499999999999999], [-0.65956445017478, -0.5000000000000021, -0.2549014242126527, -0.4999999999999995], [0.25490142421265305, 0.4999999999999987, -0.6595644501747807, -0.5000000000000012]]\n",
      "----- N 4 segNum 17 -----\n",
      "detuning [-0.0746640014118608, -0.026766116709028138, 0.02676611670902837, 0.05928403591874801]\n",
      "tau 254.99999999999997\n",
      "mode [[-0.25490142  0.65956445 -0.65956445  0.25490142]\n",
      " [ 0.5        -0.5        -0.5         0.5       ]\n",
      " [ 0.65956445  0.25490142 -0.25490142 -0.65956445]\n",
      " [-0.5        -0.5        -0.5        -0.5       ]]\n",
      "k_list [0, 1, 2, 3]\n",
      "this ions should have laser shined:  [1 2]\n",
      ">>>>>>>>>> P and G calculate time used is: 24.352225065231323 seconds\n",
      "error: 0.15891630871929915\n",
      "constrain_error 1.5335308578556806e-08\n",
      ">>>>>>>>>> optimization time used is: 25.54150700569153 seconds\n",
      "alpha max are: [1, 2, 1, 1]  for phonon cut-off in simulation\n",
      "./calculation results/data/\n",
      "segnum 17 (array([ 0.5       , -0.00471308,  0.5       ,  0.5       ,  0.5       ,\n",
      "        0.5       ,  0.4675498 ,  0.5       ,  0.5       ,  0.5       ,\n",
      "        0.46763752,  0.5       ,  0.5       ,  0.5       ,  0.5       ,\n",
      "       -0.00483888,  0.5       ]), array([ 0.5       , -0.00471308,  0.5       ,  0.5       ,  0.5       ,\n",
      "        0.5       ,  0.4675498 ,  0.5       ,  0.5       ,  0.5       ,\n",
      "        0.46763752,  0.5       ,  0.5       ,  0.5       ,  0.5       ,\n",
      "       -0.00483888,  0.5       ]))\n",
      "test theta tf.Tensor(\n",
      "[[0.        +0.j 0.        +0.j 0.        +0.j 0.        +0.j]\n",
      " [0.        +0.j 1.13093233+0.j 0.39269907+0.j 0.        +0.j]\n",
      " [0.        +0.j 0.39269907+0.j 1.13093233+0.j 0.        +0.j]\n",
      " [0.        +0.j 0.        +0.j 0.        +0.j 0.        +0.j]], shape=(4, 4), dtype=complex128)\n",
      "----- N 4 segNum 18 -----\n",
      "detuning [-0.0746640014118608, -0.026766116709028138, 0.02676611670902837, 0.05928403591874801]\n",
      "tau 269.99999999999994\n",
      "mode [[-0.25490142  0.65956445 -0.65956445  0.25490142]\n",
      " [ 0.5        -0.5        -0.5         0.5       ]\n",
      " [ 0.65956445  0.25490142 -0.25490142 -0.65956445]\n",
      " [-0.5        -0.5        -0.5        -0.5       ]]\n",
      "k_list [0, 1, 2, 3]\n",
      "this ions should have laser shined:  [1 2]\n",
      ">>>>>>>>>> P and G calculate time used is: 32.792712926864624 seconds\n",
      "error: 0.02987795028612457\n",
      "constrain_error 4.563523603451358e-08\n",
      ">>>>>>>>>> optimization time used is: 34.352176904678345 seconds\n",
      "alpha max are: [1, 2, 1, 1]  for phonon cut-off in simulation\n",
      "./calculation results/data/\n",
      "segnum 18 (array([ 0.5       , -0.08230426,  0.47776524,  0.5       ,  0.5       ,\n",
      "        0.5       ,  0.5       ,  0.5       ,  0.4965104 ,  0.49591496,\n",
      "        0.5       ,  0.5       ,  0.5       ,  0.5       ,  0.5       ,\n",
      "        0.47770437, -0.08187089,  0.5       ]), array([ 0.5       , -0.08230426,  0.47776524,  0.5       ,  0.5       ,\n",
      "        0.5       ,  0.5       ,  0.5       ,  0.4965104 ,  0.49591496,\n",
      "        0.5       ,  0.5       ,  0.5       ,  0.5       ,  0.5       ,\n",
      "        0.47770437, -0.08187089,  0.5       ]))\n",
      "test theta tf.Tensor(\n",
      "[[0.        +0.j 0.        +0.j 0.        +0.j 0.        +0.j]\n",
      " [0.        +0.j 1.16793268+0.j 0.3926991 +0.j 0.        +0.j]\n",
      " [0.        +0.j 0.3926991 +0.j 1.16793268+0.j 0.        +0.j]\n",
      " [0.        +0.j 0.        +0.j 0.        +0.j 0.        +0.j]], shape=(4, 4), dtype=complex128)\n",
      "----- N 4 segNum 19 -----\n",
      "detuning [-0.0746640014118608, -0.026766116709028138, 0.02676611670902837, 0.05928403591874801]\n",
      "tau 285.0\n",
      "mode [[-0.25490142  0.65956445 -0.65956445  0.25490142]\n",
      " [ 0.5        -0.5        -0.5         0.5       ]\n",
      " [ 0.65956445  0.25490142 -0.25490142 -0.65956445]\n",
      " [-0.5        -0.5        -0.5        -0.5       ]]\n",
      "k_list [0, 1, 2, 3]\n",
      "this ions should have laser shined:  [1 2]\n",
      ">>>>>>>>>> P and G calculate time used is: 41.007564067840576 seconds\n",
      "error: 5.712616093679047e-06\n",
      "constrain_error 4.086545191128721e-07\n",
      ">>>>>>>>>> optimization time used is: 84.44592380523682 seconds\n",
      "alpha max are: [1, 2, 1, 1]  for phonon cut-off in simulation\n",
      "./calculation results/data/\n",
      "segnum 19 (array([0.42868678, 0.13626948, 0.12234024, 0.46683114, 0.47508475,\n",
      "       0.44628007, 0.39526348, 0.49891264, 0.49987703, 0.49996895,\n",
      "       0.49937557, 0.49706089, 0.39868297, 0.44278733, 0.47692837,\n",
      "       0.46791187, 0.11934019, 0.14070381, 0.42710522]), array([0.42868678, 0.13626948, 0.12234024, 0.46683114, 0.47508475,\n",
      "       0.44628007, 0.39526348, 0.49891264, 0.49987703, 0.49996895,\n",
      "       0.49937557, 0.49706089, 0.39868297, 0.44278733, 0.47692837,\n",
      "       0.46791187, 0.11934019, 0.14070381, 0.42710522]))\n",
      "test theta tf.Tensor(\n",
      "[[0.        +0.j 0.        +0.j 0.        +0.j 0.        +0.j]\n",
      " [0.        +0.j 1.01216758+0.j 0.39269929+0.j 0.        +0.j]\n",
      " [0.        +0.j 0.39269929+0.j 1.01216758+0.j 0.        +0.j]\n",
      " [0.        +0.j 0.        +0.j 0.        +0.j 0.        +0.j]], shape=(4, 4), dtype=complex128)\n",
      "----- break -----\n"
     ]
    }
   ],
   "source": [
    "import optimize_pulse\n",
    "optimize_pulse.optimize_pulse()\n"
   ]
  },
  {
   "cell_type": "code",
   "execution_count": 4,
   "metadata": {},
   "outputs": [
    {
     "name": "stdout",
     "output_type": "stream",
     "text": [
      "init\n",
      "alpha0,1: [(-8.611213335874546e-07+1.463613367525087e-06j), (-8.611213335874546e-07-1.463613367525087e-06j)] [(8.611213335874546e-07-1.463613367525087e-06j), (-8.611213335874546e-07-1.463613367525087e-06j)]\n",
      "alg1: [[ 4.95274548e-01-1.88319039e-17j  0.00000000e+00+0.00000000e+00j\n",
      "   0.00000000e+00+0.00000000e+00j  3.73857186e-07+4.95315473e-01j]\n",
      " [ 0.00000000e+00+0.00000000e+00j  4.66086562e-03-1.27691658e-17j\n",
      "  -3.73857186e-07+2.31570772e-17j  0.00000000e+00+0.00000000e+00j]\n",
      " [ 0.00000000e+00+0.00000000e+00j -3.73857186e-07+7.91862328e-18j\n",
      "   4.66086562e-03+4.59373357e-17j  0.00000000e+00+0.00000000e+00j]\n",
      " [ 3.73857186e-07-4.95315473e-01j  0.00000000e+00+0.00000000e+00j\n",
      "   0.00000000e+00+0.00000000e+00j  4.95403721e-01-1.24572935e-17j]]\n",
      "with lind N_ions = 2 time alg1 = 39.456634759902954\n",
      "alg1: [[ 4.99925852e-01+5.69901140e-17j  0.00000000e+00+0.00000000e+00j\n",
      "   0.00000000e+00+0.00000000e+00j -2.57232004e-06+5.00002114e-01j]\n",
      " [ 0.00000000e+00+0.00000000e+00j -4.81114519e-06-2.50137010e-17j\n",
      "   2.57232004e-06-2.50137010e-17j  0.00000000e+00+0.00000000e+00j]\n",
      " [ 0.00000000e+00+0.00000000e+00j  2.57232004e-06-2.50137010e-17j\n",
      "  -4.81114519e-06-2.50137010e-17j  0.00000000e+00+0.00000000e+00j]\n",
      " [-2.57232004e-06-5.00002114e-01j  0.00000000e+00+0.00000000e+00j\n",
      "   0.00000000e+00+0.00000000e+00j  5.00083771e-01-5.17950618e-18j]]\n",
      "no lind N_ions = 2 time alg1 = 31.931180000305176\n",
      "--------\n",
      "N_ions 2 cut_off 10 (infid,tracedist) (0.004672234105459139, 0.00935234023503833)\n",
      "(-3.4623710356562754e-06, 8.38406809827741e-05)\n",
      "init\n",
      "alpha0,1: [(3.7096921656805455e-07-6.471286878032332e-07j), (-6.425375338697657e-07-1.1208597657736727e-06j), (-8.760454781028705e-07-6.514383324945286e-07j)] [(-7.419384331361076e-07+1.2942573756064636e-06j), (-1.0845065865764547e-21-1.891842475394555e-21j), (-8.760454781028696e-07-6.51438332494528e-07j)]\n",
      "alg1: [[ 0.49411935+6.76316159e-17j  0.        +0.00000000e+00j\n",
      "   0.        +0.00000000e+00j -0.00394193+4.94100159e-01j]\n",
      " [ 0.        +0.00000000e+00j  0.00583198+1.66589206e-19j\n",
      "   0.00394193+5.26179667e-07j  0.        +0.00000000e+00j]\n",
      " [ 0.        +0.00000000e+00j  0.00394193-5.26179667e-07j\n",
      "   0.00583162+5.22818710e-18j  0.        +0.00000000e+00j]\n",
      " [-0.00394193-4.94100159e-01j  0.        +0.00000000e+00j\n",
      "   0.        +0.00000000e+00j  0.49421705-6.64027662e-17j]]\n",
      "with lind N_ions = 3 time alg1 = 56.6280882358551\n",
      "alg1: [[ 4.99975253e-01+7.10238167e-17j  0.00000000e+00+0.00000000e+00j\n",
      "   0.00000000e+00+0.00000000e+00j  2.62845398e-07+4.99999308e-01j]\n",
      " [ 0.00000000e+00+0.00000000e+00j -3.11412721e-06+1.72394870e-17j\n",
      "  -2.62845398e-07+7.82567092e-07j  0.00000000e+00+0.00000000e+00j]\n",
      " [ 0.00000000e+00+0.00000000e+00j -2.62845398e-07-7.82567092e-07j\n",
      "  -3.61360689e-06-5.67149209e-17j  0.00000000e+00+0.00000000e+00j]\n",
      " [ 2.62845398e-07-4.99999308e-01j  0.00000000e+00+0.00000000e+00j\n",
      "   0.00000000e+00+0.00000000e+00j  5.00031474e-01-3.11332991e-17j]]\n",
      "no lind N_ions = 3 time alg1 = 54.12048602104187\n",
      "--------\n",
      "N_ions 3 cut_off 10 (infid,tracedist) (0.005867231836388043, 0.012930323205447718)\n",
      "(-1.3358724304524117e-06, 3.1484052813587595e-05)\n",
      "init\n",
      "alpha0,1: [(-1.2490683543624496e-06-2.7622902684361283e-07j), (5.195134305086633e-07+1.0332645319426131e-07j), (2.6484943182426247e-07-5.2676126751726575e-08j), (-3.456917195853046e-06-1.5416410991864043e-06j)] [(1.249068354362447e-06+2.7622902684361225e-07j), (5.19513430508666e-07+1.0332645319426186e-07j), (-2.648494318242612e-07+5.2676126751726324e-08j), (-3.4569171958530495e-06-1.5416410991864058e-06j)]\n",
      "alg1: [[ 0.47942941+6.78162311e-18j  0.        +0.00000000e+00j\n",
      "   0.        +0.00000000e+00j -0.00855496+4.78369548e-01j]\n",
      " [ 0.        +0.00000000e+00j  0.02099065+7.89764482e-17j\n",
      "   0.00855496-1.20116895e-17j  0.        +0.00000000e+00j]\n",
      " [ 0.        +0.00000000e+00j  0.00855496+5.82000357e-17j\n",
      "   0.02099065-3.06279069e-17j  0.        +0.00000000e+00j]\n",
      " [-0.00855496-4.78369548e-01j  0.        +0.00000000e+00j\n",
      "   0.        +0.00000000e+00j  0.47858929-5.37640508e-17j]]\n",
      "with lind N_ions = 4 time alg1 = 72.3510730266571\n",
      "alg1: [[ 5.00120474e-01+4.37292149e-18j  0.00000000e+00+0.00000000e+00j\n",
      "   0.00000000e+00+0.00000000e+00j -8.41658769e-06+4.99989827e-01j]\n",
      " [ 0.00000000e+00+0.00000000e+00j  5.05509584e-06+1.08144857e-17j\n",
      "   8.41658769e-06-1.66004359e-17j  0.00000000e+00+0.00000000e+00j]\n",
      " [ 0.00000000e+00+0.00000000e+00j  8.41658769e-06+9.63095703e-18j\n",
      "   5.05509584e-06-1.96858932e-17j  0.00000000e+00+0.00000000e+00j]\n",
      " [-8.41658769e-06-4.99989827e-01j  0.00000000e+00+0.00000000e+00j\n",
      "   0.00000000e+00+0.00000000e+00j  4.99869416e-01+4.96811059e-18j]]\n",
      "no lind N_ions = 4 time alg1 = 70.6438090801239\n",
      "--------\n",
      "N_ions 4 cut_off 10 (infid,tracedist) (0.020865416398572978, 0.04423568376922856)\n",
      "(7.613942125894724e-06, 0.00013463825852405467)\n",
      "k =  0\n",
      "median 2.043353796005249\n",
      "end 5.14921236038208\n",
      "k =  1\n",
      "median 1.9453709125518799\n",
      "end 0.028822898864746094\n",
      "---------------N = 2 my bound 0.0188365435937544\n",
      "k =  0\n",
      "median 2.884139060974121\n",
      "end 6.9360151290893555\n",
      "k =  1\n",
      "median 2.4334158897399902\n",
      "end 7.648895978927612\n",
      "k =  2\n",
      "median 2.947052001953125\n",
      "end 9.663804769515991\n",
      "---------------N = 3 my bound 0.0237575056552154\n",
      "k =  0\n",
      "median 2.3431270122528076\n",
      "end 8.437789916992188\n",
      "k =  1\n",
      "median 3.169600009918213\n",
      "end 15.309762954711914\n",
      "k =  2\n",
      "median 3.6097731590270996\n",
      "end 17.69689393043518\n",
      "k =  3\n",
      "median 9.21050214767456\n",
      "end 14.84432601928711\n",
      "---------------N = 4 my bound 0.0884558623945109\n"
     ]
    }
   ],
   "source": [
    "import simu_heating\n",
    "simu_heating.num_heating_error()\n",
    "simu_heating.bound_eq26()"
   ]
  },
  {
   "cell_type": "code",
   "execution_count": 5,
   "metadata": {},
   "outputs": [
    {
     "name": "stdout",
     "output_type": "stream",
     "text": [
      "{2: 0.004672234105459139, 3: 0.005867231836388043, 4: 0.020865416398572978}\n",
      "{2: 0.0188365435937544, 3: 0.0237575056552154, 4: 0.0884558623945109}\n"
     ]
    },
    {
     "data": {
      "image/png": "[encoded data removed]",
      "text/plain": [
       "<Figure size 432x288 with 1 Axes>"
      ]
     },
     "metadata": {
      "needs_background": "light"
     },
     "output_type": "display_data"
    }
   ],
   "source": [
    "%run visulization.py"
   ]
  }
 ],
 "metadata": {
  "interpreter": {
   "hash": "654d61ce0e3d19450285a7adc75acb17b8bbd5f73dcd7a6500957e93c9dcc42d"
  },
  "kernelspec": {
   "display_name": "Python 3.10.4 ('alg1_alg2')",
   "language": "python",
   "name": "python3"
  },
  "language_info": {
   "codemirror_mode": {
    "name": "ipython",
    "version": 3
   },
   "file_extension": ".py",
   "mimetype": "text/x-python",
   "name": "python",
   "nbconvert_exporter": "python",
   "pygments_lexer": "ipython3",
   "version": "3.10.4"
  },
  "orig_nbformat": 4
 },
 "nbformat": 4,
 "nbformat_minor": 2
}
